{
  "nbformat": 4,
  "nbformat_minor": 0,
  "metadata": {
    "colab": {
      "name": "Word2Vec.ipynb",
      "provenance": [],
      "toc_visible": true
    },
    "kernelspec": {
      "name": "python3",
      "display_name": "Python 3"
    },
    "language_info": {
      "name": "python"
    },
    "accelerator": "GPU"
  },
  "cells": [
    {
      "cell_type": "markdown",
      "metadata": {
        "id": "JhdGP4Pa8ulw"
      },
      "source": [
        "# Word2Vec(skip-gram) Embedding from Eng_to_Ger and Ger_to_Eng"
      ]
    },
    {
      "cell_type": "code",
      "metadata": {
        "colab": {
          "base_uri": "https://localhost:8080/"
        },
        "id": "WKYTbPzt8a1P",
        "outputId": "e10acb4e-085c-4df7-af8e-03f01743ce28"
      },
      "source": [
        "from google.colab import drive\n",
        "drive.mount('/content/drive')"
      ],
      "execution_count": 1,
      "outputs": [
        {
          "output_type": "stream",
          "text": [
            "Mounted at /content/drive\n"
          ],
          "name": "stdout"
        }
      ]
    },
    {
      "cell_type": "code",
      "metadata": {
        "colab": {
          "base_uri": "https://localhost:8080/"
        },
        "id": "7zze-3vz86G7",
        "outputId": "31757b2a-b3a9-4961-dc91-8bf24619b3a7"
      },
      "source": [
        "cd /content/drive/MyDrive/Lab_Task_7"
      ],
      "execution_count": 2,
      "outputs": [
        {
          "output_type": "stream",
          "text": [
            "/content/drive/MyDrive/Lab_Task_7\n"
          ],
          "name": "stdout"
        }
      ]
    },
    {
      "cell_type": "code",
      "metadata": {
        "colab": {
          "base_uri": "https://localhost:8080/"
        },
        "id": "B4MhaHyt9GqG",
        "outputId": "5691d79b-6000-4f24-da7f-10871f5a9fb0"
      },
      "source": [
        "cd /content/drive/MyDrive/Lab_Task_7/vecmap"
      ],
      "execution_count": 3,
      "outputs": [
        {
          "output_type": "stream",
          "text": [
            "/content/drive/MyDrive/Lab_Task_7/vecmap\n"
          ],
          "name": "stdout"
        }
      ]
    },
    {
      "cell_type": "code",
      "metadata": {
        "id": "FhUfPVqw9JFC",
        "colab": {
          "base_uri": "https://localhost:8080/"
        },
        "outputId": "5abfaa68-aac1-4ffd-cd29-9e266976bc59"
      },
      "source": [
        "!python3 map_embeddings.py --supervised ../Train_ger_eng.txt ../German_W2V/ger_model.txt ../English_W2V/eng_model.txt W2V_SRC_MAPPED.EMB W2V_TRG_MAPPED.EMB"
      ],
      "execution_count": 4,
      "outputs": [
        {
          "output_type": "stream",
          "text": [
            "tcmalloc: large alloc 1978802176 bytes == 0x55874507e000 @  0x7f7fd4c121e7 0x7f7fd265246e 0x7f7fd26a2c7b 0x7f7fd26a335f 0x7f7fd2745103 0x5587425630e4 0x558742562de0 0x5587425d76f5 0x5587425d1b0e 0x55874256477a 0x5587425d386a 0x5587425d1e0d 0x55874256477a 0x5587425d2a45 0x5587425d1b0e 0x5587425d1813 0x55874269b592 0x55874269b90d 0x55874269b7b6 0x558742673103 0x558742672dac 0x7f7fd39fcbf7 0x558742672c8a\n",
            "tcmalloc: large alloc 1610874880 bytes == 0x5587bfb04000 @  0x7f7fd4c121e7 0x7f7fd265246e 0x7f7fd26a2c7b 0x7f7fd26a335f 0x7f7fd2745103 0x5587425630e4 0x558742562de0 0x5587425d76f5 0x5587425d1b0e 0x55874256477a 0x5587425d386a 0x5587425d1e0d 0x55874256477a 0x5587425d2a45 0x5587425d1b0e 0x5587425d1813 0x55874269b592 0x55874269b90d 0x55874269b7b6 0x558742673103 0x558742672dac 0x7f7fd39fcbf7 0x558742672c8a\n",
            "tcmalloc: large alloc 1978802176 bytes == 0x55883fdcc000 @  0x7f7fd4c121e7 0x7f7fd265246e 0x7f7fd26a2c7b 0x7f7fd26a2d18 0x7f7fd2887287 0x7f7fd2888e3d 0x7f7fd288a516 0x5587425642c0 0x558742563e99 0x7f7fd2768118 0x7f7fd27682fa 0x55874264d0c3 0x5587425d4780 0x55874256469a 0x5587425d2a45 0x55874256469a 0x5587425d6e50 0x5587425d1e0d 0x55874256477a 0x5587425d2a45 0x5587425d1b0e 0x5587425d1813 0x55874269b592 0x55874269b90d 0x55874269b7b6 0x558742673103 0x558742672dac 0x7f7fd39fcbf7 0x558742672c8a\n",
            "tcmalloc: large alloc 1978802176 bytes == 0x55883fdcc000 @  0x7f7fd4c121e7 0x7f7fd265246e 0x7f7fd26a2c7b 0x7f7fd26a2d18 0x7f7fd2887287 0x7f7fd2888e3d 0x7f7fd288a516 0x5587425642c0 0x558742563e99 0x7f7fd2768118 0x7f7fd27682fa 0x55874264d0c3 0x5587425d4780 0x55874256469a 0x5587425d2a45 0x55874256469a 0x5587425d6e50 0x5587425d1e0d 0x55874256477a 0x5587425d2a45 0x5587425d1b0e 0x5587425d1813 0x55874269b592 0x55874269b90d 0x55874269b7b6 0x558742673103 0x558742672dac 0x7f7fd39fcbf7 0x558742672c8a\n",
            "WARNING: OOV dictionary entry (vom - of)\n",
            "WARNING: OOV dictionary entry (vom - from)\n",
            "WARNING: OOV dictionary entry (vom - vom)\n",
            "WARNING: OOV dictionary entry (km² - km²)\n",
            "tcmalloc: large alloc 1978802176 bytes == 0x55883fdcc000 @  0x7f7fd4c121e7 0x7f7fd265246e 0x7f7fd26a2c7b 0x7f7fd26a2d97 0x7f7fd2744ff1 0x5587425652f8 0x7f7fd268fef7 0x558742562fd7 0x558742562de0 0x5587425d6ac2 0x5587425d1b0e 0x55874256477a 0x5587425d6e50 0x5587425d1e0d 0x55874256477a 0x5587425d2a45 0x5587425d1b0e 0x5587425d1813 0x55874269b592 0x55874269b90d 0x55874269b7b6 0x558742673103 0x558742672dac 0x7f7fd39fcbf7 0x558742672c8a\n",
            "tcmalloc: large alloc 16108683264 bytes == 0x5589182c4000 @  0x7f7fd4c121e7 0x7f7fd265246e 0x7f7fd26a2c7b 0x7f7fd26a335f 0x7f7fd2745103 0x5587425630e4 0x558742562de0 0x5587425d76f5 0x5587425d1e0d 0x55874256477a 0x5587425d2a45 0x5587425d1b0e 0x5587425d1813 0x55874269b592 0x55874269b90d 0x55874269b7b6 0x558742673103 0x558742672dac 0x7f7fd39fcbf7 0x558742672c8a\n",
            "tcmalloc: large alloc 19787988992 bytes == 0x558cd8d34000 @  0x7f7fd4c121e7 0x7f7fd265246e 0x7f7fd26a2c7b 0x7f7fd26a335f 0x7f7fd2745103 0x5587425630e4 0x558742562de0 0x5587425d76f5 0x5587425d1e0d 0x55874256477a 0x5587425d2a45 0x5587425d1b0e 0x5587425d1813 0x55874269b592 0x55874269b90d 0x55874269b7b6 0x558742673103 0x558742672dac 0x7f7fd39fcbf7 0x558742672c8a\n"
          ],
          "name": "stdout"
        }
      ]
    },
    {
      "cell_type": "code",
      "metadata": {
        "id": "jJ1-uvwSUtcI"
      },
      "source": [
        "!python3 eval_translation.py W2V_SRC_MAPPED.EMB W2V_TRG_MAPPED.EMB -d ../german_to_eng_dict_multiple.txt --retrieval csls "
      ],
      "execution_count": null,
      "outputs": []
    },
    {
      "cell_type": "markdown",
      "metadata": {
        "id": "Cs_KncPfkZZT"
      },
      "source": [
        "Accuracy comes out to be: **63.9%**"
      ]
    },
    {
      "cell_type": "code",
      "metadata": {
        "colab": {
          "base_uri": "https://localhost:8080/"
        },
        "id": "Glhd4KySXKjF",
        "outputId": "f2125a1f-7684-44b1-e129-93ab89868c72"
      },
      "source": [
        "!python3 map_embeddings.py --supervised ../Train_eng_ger.txt ../English_W2V/eng_model.txt ../German_W2V/ger_model.txt W2V_ENG_MAPPED.EMB W2V_GER_MAPPED.EMB"
      ],
      "execution_count": 8,
      "outputs": [
        {
          "output_type": "stream",
          "text": [
            "tcmalloc: large alloc 1610874880 bytes == 0x5615328c4000 @  0x7fc718ebd1e7 0x7fc7168fd46e 0x7fc71694dc7b 0x7fc71694e35f 0x7fc7169f0103 0x5615309a40e4 0x5615309a3de0 0x561530a186f5 0x561530a12b0e 0x5615309a577a 0x561530a1486a 0x561530a12e0d 0x5615309a577a 0x561530a13a45 0x561530a12b0e 0x561530a12813 0x561530adc592 0x561530adc90d 0x561530adc7b6 0x561530ab4103 0x561530ab3dac 0x7fc717ca7bf7 0x561530ab3c8a\n",
            "tcmalloc: large alloc 1978802176 bytes == 0x561597468000 @  0x7fc718ebd1e7 0x7fc7168fd46e 0x7fc71694dc7b 0x7fc71694e35f 0x7fc7169f0103 0x5615309a40e4 0x5615309a3de0 0x561530a186f5 0x561530a12b0e 0x5615309a577a 0x561530a1486a 0x561530a12e0d 0x5615309a577a 0x561530a13a45 0x561530a12b0e 0x561530a12813 0x561530adc592 0x561530adc90d 0x561530adc7b6 0x561530ab4103 0x561530ab3dac 0x7fc717ca7bf7 0x561530ab3c8a\n",
            "tcmalloc: large alloc 1610874880 bytes == 0x56162d6b8000 @  0x7fc718ebd1e7 0x7fc7168fd46e 0x7fc71694dc7b 0x7fc71694dd18 0x7fc716b32287 0x7fc716b33e3d 0x7fc716b35516 0x5615309a52c0 0x5615309a4e99 0x7fc716a13118 0x7fc716a132fa 0x561530a8e0c3 0x561530a15780 0x5615309a569a 0x561530a13a45 0x5615309a569a 0x561530a17e50 0x561530a12e0d 0x5615309a577a 0x561530a13a45 0x561530a12b0e 0x561530a12813 0x561530adc592 0x561530adc90d 0x561530adc7b6 0x561530ab4103 0x561530ab3dac 0x7fc717ca7bf7 0x561530ab3c8a\n",
            "tcmalloc: large alloc 1610874880 bytes == 0x56162d6b8000 @  0x7fc718ebd1e7 0x7fc7168fd46e 0x7fc71694dc7b 0x7fc71694dd18 0x7fc716b32287 0x7fc716b33e3d 0x7fc716b35516 0x5615309a52c0 0x5615309a4e99 0x7fc716a13118 0x7fc716a132fa 0x561530a8e0c3 0x561530a15780 0x5615309a569a 0x561530a13a45 0x5615309a569a 0x561530a17e50 0x561530a12e0d 0x5615309a577a 0x561530a13a45 0x561530a12b0e 0x561530a12813 0x561530adc592 0x561530adc90d 0x561530adc7b6 0x561530ab4103 0x561530ab3dac 0x7fc717ca7bf7 0x561530ab3c8a\n",
            "tcmalloc: large alloc 1978802176 bytes == 0x56162d6b8000 @  0x7fc718ebd1e7 0x7fc7168fd46e 0x7fc71694dc7b 0x7fc71694dd18 0x7fc716b32287 0x7fc716b33e3d 0x7fc716b35516 0x5615309a52c0 0x5615309a4e99 0x7fc716a13118 0x7fc716a132fa 0x561530a8e0c3 0x561530a15780 0x5615309a569a 0x561530a13a45 0x5615309a569a 0x561530a17e50 0x561530a12e0d 0x5615309a577a 0x561530a13a45 0x561530a12b0e 0x561530a12813 0x561530adc592 0x561530adc90d 0x561530adc7b6 0x561530ab4103 0x561530ab3dac 0x7fc717ca7bf7 0x561530ab3c8a\n",
            "tcmalloc: large alloc 1978802176 bytes == 0x56162d6b8000 @  0x7fc718ebd1e7 0x7fc7168fd46e 0x7fc71694dc7b 0x7fc71694dd18 0x7fc716b32287 0x7fc716b33e3d 0x7fc716b35516 0x5615309a52c0 0x5615309a4e99 0x7fc716a13118 0x7fc716a132fa 0x561530a8e0c3 0x561530a15780 0x5615309a569a 0x561530a13a45 0x5615309a569a 0x561530a17e50 0x561530a12e0d 0x5615309a577a 0x561530a13a45 0x561530a12b0e 0x561530a12813 0x561530adc592 0x561530adc90d 0x561530adc7b6 0x561530ab4103 0x561530ab3dac 0x7fc717ca7bf7 0x561530ab3c8a\n",
            "WARNING: OOV dictionary entry (from - vom)\n",
            "WARNING: OOV dictionary entry (km² - km²)\n",
            "tcmalloc: large alloc 19787988992 bytes == 0x561705b10000 @  0x7fc718ebd1e7 0x7fc7168fd46e 0x7fc71694dc7b 0x7fc71694e35f 0x7fc7169f0103 0x5615309a40e4 0x5615309a3de0 0x561530a186f5 0x561530a12e0d 0x5615309a577a 0x561530a13a45 0x561530a12b0e 0x561530a12813 0x561530adc592 0x561530adc90d 0x561530adc7b6 0x561530ab4103 0x561530ab3dac 0x7fc717ca7bf7 0x561530ab3c8a\n",
            "tcmalloc: large alloc 16108683264 bytes == 0x561ba225c000 @  0x7fc718ebd1e7 0x7fc7168fd46e 0x7fc71694dc7b 0x7fc71694e35f 0x7fc7169f0103 0x5615309a40e4 0x5615309a3de0 0x561530a186f5 0x561530a12e0d 0x5615309a577a 0x561530a13a45 0x561530a12b0e 0x561530a12813 0x561530adc592 0x561530adc90d 0x561530adc7b6 0x561530ab4103 0x561530ab3dac 0x7fc717ca7bf7 0x561530ab3c8a\n"
          ],
          "name": "stdout"
        }
      ]
    },
    {
      "cell_type": "code",
      "metadata": {
        "id": "CXs8oomsYEIl"
      },
      "source": [
        "!python3 eval_translation.py W2V_ENG_MAPPED.EMB W2V_GER_MAPPED.EMB -d ../eng_to_german_dict_multiple.txt --retrieval csls "
      ],
      "execution_count": null,
      "outputs": []
    },
    {
      "cell_type": "markdown",
      "metadata": {
        "id": "7Sf_NIFZjb8r"
      },
      "source": [
        "Accuracy comes out to be **54.49%**"
      ]
    }
  ]
}