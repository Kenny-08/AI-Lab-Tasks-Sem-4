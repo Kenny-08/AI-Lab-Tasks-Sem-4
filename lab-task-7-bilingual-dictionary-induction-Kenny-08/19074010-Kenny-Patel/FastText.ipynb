{
  "nbformat": 4,
  "nbformat_minor": 0,
  "metadata": {
    "colab": {
      "name": "FastText.ipynb",
      "provenance": []
    },
    "kernelspec": {
      "name": "python3",
      "display_name": "Python 3"
    },
    "language_info": {
      "name": "python"
    },
    "accelerator": "GPU"
  },
  "cells": [
    {
      "cell_type": "markdown",
      "metadata": {
        "id": "BjV5A9cd7Dxi"
      },
      "source": [
        "# FastText Embedding from Eng_to_Ger and Ger_to_Eng"
      ]
    },
    {
      "cell_type": "markdown",
      "metadata": {
        "id": "GTVpS2-XCKTw"
      },
      "source": [
        "All datasets and embeddings are present in this drive and hence I have mount it in this colab file to use them as per my need"
      ]
    },
    {
      "cell_type": "code",
      "metadata": {
        "colab": {
          "base_uri": "https://localhost:8080/"
        },
        "id": "SawVBTZOrXz-",
        "outputId": "21be9c42-687d-4424-a383-2a36067316d9"
      },
      "source": [
        "from google.colab import drive\n",
        "drive.mount('/content/drive')"
      ],
      "execution_count": 1,
      "outputs": [
        {
          "output_type": "stream",
          "text": [
            "Mounted at /content/drive\n"
          ],
          "name": "stdout"
        }
      ]
    },
    {
      "cell_type": "markdown",
      "metadata": {
        "id": "BrCFjwv0CmYj"
      },
      "source": [
        "Downloading word2vec skipgram embeddings for English and German and unzipping in drive folder"
      ]
    },
    {
      "cell_type": "code",
      "metadata": {
        "colab": {
          "base_uri": "https://localhost:8080/"
        },
        "id": "3jLOBcDWJvb-",
        "outputId": "8ef93055-0cee-42de-c154-1aa9ce15b95c"
      },
      "source": [
        "!wget http://vectors.nlpl.eu/repository/20/40.zip\n"
      ],
      "execution_count": null,
      "outputs": [
        {
          "output_type": "stream",
          "text": [
            "--2021-04-07 12:12:43--  http://vectors.nlpl.eu/repository/20/40.zip\n",
            "Resolving vectors.nlpl.eu (vectors.nlpl.eu)... 129.240.189.181\n",
            "Connecting to vectors.nlpl.eu (vectors.nlpl.eu)|129.240.189.181|:80... connected.\n",
            "HTTP request sent, awaiting response... 200 OK\n",
            "Length: 3033545498 (2.8G) [application/zip]\n",
            "Saving to: ‘40.zip’\n",
            "\n",
            "40.zip              100%[===================>]   2.83G  10.0MB/s    in 4m 56s  \n",
            "\n",
            "2021-04-07 12:17:41 (9.79 MB/s) - ‘40.zip’ saved [3033545498/3033545498]\n",
            "\n"
          ],
          "name": "stdout"
        }
      ]
    },
    {
      "cell_type": "code",
      "metadata": {
        "colab": {
          "base_uri": "https://localhost:8080/"
        },
        "id": "Tzu1COTRRY9E",
        "outputId": "7e6a452f-6315-4af8-baad-634c000f4e8c"
      },
      "source": [
        "!unzip /content/40.zip"
      ],
      "execution_count": null,
      "outputs": [
        {
          "output_type": "stream",
          "text": [
            "Archive:  /content/40.zip\n",
            "  inflating: LIST                    \n",
            "  inflating: meta.json               \n",
            "  inflating: model.bin               \n",
            "  inflating: model.txt               \n",
            "  inflating: README                  \n"
          ],
          "name": "stdout"
        }
      ]
    },
    {
      "cell_type": "code",
      "metadata": {
        "colab": {
          "base_uri": "https://localhost:8080/"
        },
        "id": "D2nZ0MREQJ5a",
        "outputId": "b5437286-1047-40cd-ea7d-b743fc38c736"
      },
      "source": [
        "!wget http://vectors.nlpl.eu/repository/20/45.zip"
      ],
      "execution_count": null,
      "outputs": [
        {
          "output_type": "stream",
          "text": [
            "--2021-04-07 12:38:51--  http://vectors.nlpl.eu/repository/20/45.zip\n",
            "Resolving vectors.nlpl.eu (vectors.nlpl.eu)... 129.240.189.181\n",
            "Connecting to vectors.nlpl.eu (vectors.nlpl.eu)|129.240.189.181|:80... connected.\n",
            "HTTP request sent, awaiting response... 200 OK\n",
            "Length: 3764660264 (3.5G) [application/zip]\n",
            "Saving to: ‘45.zip’\n",
            "\n",
            "45.zip              100%[===================>]   3.51G  10.2MB/s    in 6m 2s   \n",
            "\n",
            "2021-04-07 12:44:55 (9.91 MB/s) - ‘45.zip’ saved [3764660264/3764660264]\n",
            "\n"
          ],
          "name": "stdout"
        }
      ]
    },
    {
      "cell_type": "code",
      "metadata": {
        "colab": {
          "base_uri": "https://localhost:8080/"
        },
        "id": "pvwlsghxXxP-",
        "outputId": "6ac1ca66-29ce-4658-e991-0b8efb0ca6e1"
      },
      "source": [
        "!unzip /content/45.zip\n",
        "\n"
      ],
      "execution_count": null,
      "outputs": [
        {
          "output_type": "stream",
          "text": [
            "Archive:  /content/45.zip\n",
            "  inflating: LIST                    \n",
            "  inflating: meta.json               \n",
            "  inflating: model.bin               \n",
            "  inflating: model.txt               \n",
            "  inflating: README                  \n"
          ],
          "name": "stdout"
        }
      ]
    },
    {
      "cell_type": "code",
      "metadata": {
        "colab": {
          "base_uri": "https://localhost:8080/"
        },
        "id": "p-aPZka0OZri",
        "outputId": "b2b3671d-8c5a-4b5f-f6e0-305c58101173"
      },
      "source": [
        "cd /content/drive/MyDrive/Lab_Task_7"
      ],
      "execution_count": 2,
      "outputs": [
        {
          "output_type": "stream",
          "text": [
            "/content/drive/MyDrive/Lab_Task_7\n"
          ],
          "name": "stdout"
        }
      ]
    },
    {
      "cell_type": "markdown",
      "metadata": {
        "id": "LMmAP2nRC-S3"
      },
      "source": [
        "Cloning the VecMap library to generate bilingual dictionary"
      ]
    },
    {
      "cell_type": "code",
      "metadata": {
        "colab": {
          "base_uri": "https://localhost:8080/"
        },
        "id": "KVYsdQBysAXS",
        "outputId": "68ec4c9b-a1f8-4d72-f9a5-10e500dc77ff"
      },
      "source": [
        "!git clone https://github.com/artetxem/vecmap.git"
      ],
      "execution_count": 3,
      "outputs": [
        {
          "output_type": "stream",
          "text": [
            "fatal: destination path 'vecmap' already exists and is not an empty directory.\n"
          ],
          "name": "stdout"
        }
      ]
    },
    {
      "cell_type": "code",
      "metadata": {
        "colab": {
          "base_uri": "https://localhost:8080/"
        },
        "id": "1nNZN6TnsGqX",
        "outputId": "27d477ad-e5b8-46aa-8009-084c8cbc7245"
      },
      "source": [
        "cd /content/drive/MyDrive/Lab_Task_7/vecmap"
      ],
      "execution_count": 4,
      "outputs": [
        {
          "output_type": "stream",
          "text": [
            "/content/drive/MyDrive/Lab_Task_7/vecmap\n"
          ],
          "name": "stdout"
        }
      ]
    },
    {
      "cell_type": "markdown",
      "metadata": {
        "id": "UngAah2eDRss"
      },
      "source": [
        "In order to build cross-lingual word embeddings, we will first train monolingual word embeddings for each language using fasttext and then map them to a common space with VecMap software. Having done that, we can evaluate the resulting cross-lingual embeddings using repo's included tools."
      ]
    },
    {
      "cell_type": "code",
      "metadata": {
        "colab": {
          "base_uri": "https://localhost:8080/"
        },
        "id": "c2OzUTKrsXfk",
        "outputId": "f4569ecc-b8cf-4448-ff41-bf64bed47c9c"
      },
      "source": [
        "!python3 map_embeddings.py --supervised ../Train_ger_eng.txt ../german.vec ../eng.vec SRC_MAPPED.EMB TRG_MAPPED.EMB"
      ],
      "execution_count": 5,
      "outputs": [
        {
          "output_type": "stream",
          "text": [
            "WARNING: OOV dictionary entry (hohen - hoher)\n",
            "WARNING: OOV dictionary entry (neun - neun)\n",
            "WARNING: OOV dictionary entry (zwölf - zwölf)\n",
            "WARNING: OOV dictionary entry (hoher - hoher)\n",
            "WARNING: OOV dictionary entry (pokal - pokal)\n",
            "WARNING: OOV dictionary entry (münchner - münchner)\n",
            "WARNING: OOV dictionary entry (rajon - raion)\n",
            "WARNING: OOV dictionary entry (oberliga - oberliga)\n",
            "WARNING: OOV dictionary entry (bgcolor - bgcolor)\n",
            "WARNING: OOV dictionary entry (vorpommern - vorpommern)\n",
            "WARNING: OOV dictionary entry (valign - valign)\n",
            "WARNING: OOV dictionary entry (eishockey - eishockey)\n",
            "WARNING: OOV dictionary entry (regierungsbezirk - regierungsbezirk)\n",
            "WARNING: OOV dictionary entry (nürnberger - nürnberger)\n",
            "WARNING: OOV dictionary entry (övp - övp)\n",
            "WARNING: OOV dictionary entry (spö - spö)\n",
            "WARNING: OOV dictionary entry (wikipedianer - wikipedians)\n",
            "WARNING: OOV dictionary entry (sächsische - sächsische)\n",
            "WARNING: OOV dictionary entry (sparkasse - sparkasse)\n",
            "WARNING: OOV dictionary entry (facebook - fb)\n",
            "WARNING: OOV dictionary entry (facebook - facebook)\n",
            "tcmalloc: large alloc 1656438784 bytes == 0x555dbe432000 @  0x7f9c8fd531e7 0x7f9c8d79346e 0x7f9c8d7e3c7b 0x7f9c8d7e435f 0x7f9c8d886103 0x555d1e2090e4 0x555d1e208de0 0x555d1e27d6f5 0x555d1e277e0d 0x555d1e20a77a 0x555d1e278a45 0x555d1e277b0e 0x555d1e277813 0x555d1e341592 0x555d1e34190d 0x555d1e3417b6 0x555d1e319103 0x555d1e318dac 0x7f9c8eb3dbf7 0x555d1e318c8a\n",
            "tcmalloc: large alloc 2627141632 bytes == 0x555e20fe6000 @  0x7f9c8fd531e7 0x7f9c8d79346e 0x7f9c8d7e3c7b 0x7f9c8d7e435f 0x7f9c8d886103 0x555d1e2090e4 0x555d1e208de0 0x555d1e27d6f5 0x555d1e277e0d 0x555d1e20a77a 0x555d1e278a45 0x555d1e277b0e 0x555d1e277813 0x555d1e341592 0x555d1e34190d 0x555d1e3417b6 0x555d1e319103 0x555d1e318dac 0x7f9c8eb3dbf7 0x555d1e318c8a\n"
          ],
          "name": "stdout"
        }
      ]
    },
    {
      "cell_type": "markdown",
      "metadata": {
        "id": "vITj1ESvEDaP"
      },
      "source": [
        "For German to English, we will now evaluate our mapped embeddings in bilingual lexicon extraction (aka dictionary induction or word translation) as follows:"
      ]
    },
    {
      "cell_type": "code",
      "metadata": {
        "colab": {
          "base_uri": "https://localhost:8080/"
        },
        "id": "QCKtJ2I4w1c3",
        "outputId": "18ba3d3f-ef31-4d07-a622-4d41eae4c8af"
      },
      "source": [
        "!python3 eval_translation.py SRC_MAPPED.EMB TRG_MAPPED.EMB -d ../german_to_eng_dict_multiple.txt --retrieval csls --cuda"
      ],
      "execution_count": 6,
      "outputs": [
        {
          "output_type": "stream",
          "text": [
            "Coverage:100.00%  Accuracy: 69.94%\n"
          ],
          "name": "stdout"
        }
      ]
    },
    {
      "cell_type": "markdown",
      "metadata": {
        "id": "3Ms2WfuxEULe"
      },
      "source": [
        "Accuracy comes out to be **69.94%**"
      ]
    },
    {
      "cell_type": "markdown",
      "metadata": {
        "id": "qXJ4lJHOEcSp"
      },
      "source": [
        "We will now train monolingual word embeddings for each language using fasttext and then map them to a common space with VecMap software : for English to German"
      ]
    },
    {
      "cell_type": "code",
      "metadata": {
        "colab": {
          "base_uri": "https://localhost:8080/"
        },
        "id": "faC_6QyOyi6j",
        "outputId": "8c465e60-9937-4fb3-902d-7b62d02e1bc7"
      },
      "source": [
        "!python3 map_embeddings.py --supervised ../Train_eng_ger.txt ../eng.vec ../german.vec ENG_MAPPED.EMB GER_MAPPED.EMB "
      ],
      "execution_count": 7,
      "outputs": [
        {
          "output_type": "stream",
          "text": [
            "WARNING: OOV dictionary entry (bgcolor - bgcolor)\n",
            "WARNING: OOV dictionary entry (code - quelltext)\n",
            "WARNING: OOV dictionary entry (captain - käpt)\n",
            "WARNING: OOV dictionary entry (voivodeship - woiwodschaft)\n",
            "WARNING: OOV dictionary entry (gmina - gmina)\n",
            "WARNING: OOV dictionary entry (blp - blp)\n",
            "WARNING: OOV dictionary entry (lgbt - lgbt)\n",
            "WARNING: OOV dictionary entry (wickets - wickets)\n",
            "WARNING: OOV dictionary entry (#the - #der)\n",
            "WARNING: OOV dictionary entry (#the - #the)\n",
            "WARNING: OOV dictionary entry (perry - pery)\n",
            "WARNING: OOV dictionary entry (checkuser - checkuser)\n",
            "WARNING: OOV dictionary entry (cricketer - cricketspieler)\n",
            "WARNING: OOV dictionary entry (npov - npov)\n",
            "WARNING: OOV dictionary entry (diffs - diffs)\n",
            "tcmalloc: large alloc 2627141632 bytes == 0x55c82b7e0000 @  0x7f64ec53b1e7 0x7f64e9f7b46e 0x7f64e9fcbc7b 0x7f64e9fcc35f 0x7f64ea06e103 0x55c78be5f0e4 0x55c78be5ede0 0x55c78bed36f5 0x55c78becde0d 0x55c78be6077a 0x55c78becea45 0x55c78becdb0e 0x55c78becd813 0x55c78bf97592 0x55c78bf9790d 0x55c78bf977b6 0x55c78bf6f103 0x55c78bf6edac 0x7f64eb325bf7 0x55c78bf6ec8a\n",
            "tcmalloc: large alloc 1656438784 bytes == 0x55c8c8150000 @  0x7f64ec53b1e7 0x7f64e9f7b46e 0x7f64e9fcbc7b 0x7f64e9fcc35f 0x7f64ea06e103 0x55c78be5f0e4 0x55c78be5ede0 0x55c78bed36f5 0x55c78becde0d 0x55c78be6077a 0x55c78becea45 0x55c78becdb0e 0x55c78becd813 0x55c78bf97592 0x55c78bf9790d 0x55c78bf977b6 0x55c78bf6f103 0x55c78bf6edac 0x7f64eb325bf7 0x55c78bf6ec8a\n"
          ],
          "name": "stdout"
        }
      ]
    },
    {
      "cell_type": "markdown",
      "metadata": {
        "id": "nDEy8SQTEyR8"
      },
      "source": [
        "For English to German, we will now evaluate our mapped embeddings in bilingual lexicon extraction (aka dictionary induction or word translation) as follows:"
      ]
    },
    {
      "cell_type": "code",
      "metadata": {
        "id": "-rTxBxjKykQw",
        "colab": {
          "base_uri": "https://localhost:8080/"
        },
        "outputId": "9733d726-eb1b-474e-e0be-a25391c22d3e"
      },
      "source": [
        "!python3 eval_translation.py ENG_MAPPED.EMB GER_MAPPED.EMB -d ../high_word_pairs.txt --retrieval csls --cuda"
      ],
      "execution_count": 8,
      "outputs": [
        {
          "output_type": "stream",
          "text": [
            "Coverage: 94.10%  Accuracy: 75.56%\n"
          ],
          "name": "stdout"
        }
      ]
    },
    {
      "cell_type": "markdown",
      "metadata": {
        "id": "f7ClYP8XTVYd"
      },
      "source": [
        "Accuracy comes out to be **75.56%**"
      ]
    }
  ]
}