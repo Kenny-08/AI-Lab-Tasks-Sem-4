{
  "nbformat": 4,
  "nbformat_minor": 0,
  "metadata": {
    "colab": {
      "name": "Morphological_Generation_German.ipynb",
      "provenance": []
    },
    "kernelspec": {
      "name": "python3",
      "display_name": "Python 3"
    },
    "language_info": {
      "name": "python"
    },
    "accelerator": "GPU"
  },
  "cells": [
    {
      "cell_type": "markdown",
      "metadata": {
        "id": "bWrxcX_yu8mv"
      },
      "source": [
        "Morphological Generation German--Middle high german\n"
      ]
    },
    {
      "cell_type": "code",
      "metadata": {
        "colab": {
          "base_uri": "https://localhost:8080/"
        },
        "id": "eewqADcm0j1y",
        "outputId": "28f5ebcf-c2d9-41dc-bafe-80d9b4b0d50b"
      },
      "source": [
        "!git clone https://github.com/sigmorphon/crosslingual-inflection-baseline.git"
      ],
      "execution_count": 8,
      "outputs": [
        {
          "output_type": "stream",
          "text": [
            "fatal: destination path 'crosslingual-inflection-baseline' already exists and is not an empty directory.\n"
          ],
          "name": "stdout"
        }
      ]
    },
    {
      "cell_type": "code",
      "metadata": {
        "colab": {
          "base_uri": "https://localhost:8080/"
        },
        "id": "_Ju079Le0sOB",
        "outputId": "97e32aa1-6bb1-44aa-c9c6-4566db3a1bd9"
      },
      "source": [
        "cd /content/crosslingual-inflection-baseline"
      ],
      "execution_count": 9,
      "outputs": [
        {
          "output_type": "stream",
          "text": [
            "/content/crosslingual-inflection-baseline\n"
          ],
          "name": "stdout"
        }
      ]
    },
    {
      "cell_type": "code",
      "metadata": {
        "colab": {
          "base_uri": "https://localhost:8080/"
        },
        "id": "VXZWDvF4eiQZ",
        "outputId": "5b5afe4c-b72a-4d24-fcf7-cfa113e53208"
      },
      "source": [
        "!bash scripts/run-task1-tag.sh soft german--middle-high-german"
      ],
      "execution_count": 11,
      "outputs": [
        {
          "output_type": "stream",
          "text": [
            "2021-03-23 15:44:38 INFO: command line argument: seed - 0\n",
            "2021-03-23 15:44:38 INFO: command line argument: dataset - <Data.sigmorphon19task1: 'sigmorphon19task1'>\n",
            "2021-03-23 15:44:38 INFO: command line argument: train - ['sample/task1/german--middle-high-german/german-train-high', 'sample/task1/german--middle-high-german/middle-high-german-train-low']\n",
            "2021-03-23 15:44:38 INFO: command line argument: dev - 'sample/task1/german--middle-high-german/middle-high-german-dev'\n",
            "2021-03-23 15:44:38 INFO: command line argument: test - None\n",
            "2021-03-23 15:44:38 INFO: command line argument: model - 'model/sigmorphon19/task1/tag-soft/german--middle-high-german'\n",
            "2021-03-23 15:44:38 INFO: command line argument: load - ''\n",
            "2021-03-23 15:44:38 INFO: command line argument: bs - 20\n",
            "2021-03-23 15:44:38 INFO: command line argument: epochs - 15\n",
            "2021-03-23 15:44:38 INFO: command line argument: optimizer - 'Adam'\n",
            "2021-03-23 15:44:38 INFO: command line argument: lr - 0.001\n",
            "2021-03-23 15:44:38 INFO: command line argument: min_lr - 1e-05\n",
            "2021-03-23 15:44:38 INFO: command line argument: momentum - 0.9\n",
            "2021-03-23 15:44:38 INFO: command line argument: estop - 1e-08\n",
            "2021-03-23 15:44:38 INFO: command line argument: cooldown - 0\n",
            "2021-03-23 15:44:38 INFO: command line argument: patience - 10\n",
            "2021-03-23 15:44:38 INFO: command line argument: discount_factor - 0.5\n",
            "2021-03-23 15:44:38 INFO: command line argument: max_norm - 5.0\n",
            "2021-03-23 15:44:38 INFO: command line argument: dropout - 0.4\n",
            "2021-03-23 15:44:38 INFO: command line argument: embed_dim - 200\n",
            "2021-03-23 15:44:38 INFO: command line argument: src_layer - 2\n",
            "2021-03-23 15:44:38 INFO: command line argument: trg_layer - 1\n",
            "2021-03-23 15:44:38 INFO: command line argument: src_hs - 400\n",
            "2021-03-23 15:44:38 INFO: command line argument: trg_hs - 400\n",
            "2021-03-23 15:44:38 INFO: command line argument: arch - <Arch.soft: 'soft'>\n",
            "2021-03-23 15:44:38 INFO: command line argument: wid_siz - 11\n",
            "2021-03-23 15:44:38 INFO: command line argument: loglevel - 'info'\n",
            "2021-03-23 15:44:38 INFO: command line argument: saveall - False\n",
            "2021-03-23 15:44:38 INFO: command line argument: mono - False\n",
            "2021-03-23 15:44:38 INFO: command line argument: bestacc - False\n",
            "2021-03-23 15:44:38 INFO: command line argument: shuffle - True\n",
            "2021-03-23 15:44:38 INFO: src vocab size 90\n",
            "2021-03-23 15:44:38 INFO: trg vocab size 70\n",
            "2021-03-23 15:44:38 INFO: src vocab ['<PAD>', '<s>', '<\\\\s>', '<UNK>', ' ', \"'\", '-', 'A', 'B', 'C', 'D', 'E', 'F', 'G', 'H', 'I', 'J', 'K', 'L', 'M', 'N', 'O', 'P', 'Q', 'R', 'S', 'T', 'U', 'V', 'W', 'X', 'Y', 'Z', 'a', 'b', 'c', 'd', 'e', 'f', 'g', 'h', 'i', 'j', 'k', 'l', 'm', 'n', 'o', 'p', 'q', 'r', 's', 't', 'u', 'v', 'w', 'x', 'y', 'z', 'Ä', 'Ö', 'Ü', 'ß', 'â', 'ä', 'è', 'é', 'ë', 'ö', 'ü', '1', '2', '3', 'ACC', 'DAT', 'GEN', 'IMP', 'IND', 'N', 'NFIN', 'NOM', 'PL', 'PRS', 'PST', 'SBJV', 'SG', 'V', 'V.PTCP', 'german', 'middle-high-german']\n",
            "2021-03-23 15:44:38 INFO: trg vocab ['<PAD>', '<s>', '<\\\\s>', '<UNK>', ' ', \"'\", '-', 'A', 'B', 'C', 'D', 'E', 'F', 'G', 'H', 'I', 'J', 'K', 'L', 'M', 'N', 'O', 'P', 'Q', 'R', 'S', 'T', 'U', 'V', 'W', 'X', 'Y', 'Z', 'a', 'b', 'c', 'd', 'e', 'f', 'g', 'h', 'i', 'j', 'k', 'l', 'm', 'n', 'o', 'p', 'q', 'r', 's', 't', 'u', 'v', 'w', 'x', 'y', 'z', 'Ä', 'Ö', 'Ü', 'ß', 'â', 'ä', 'è', 'é', 'ë', 'ö', 'ü']\n",
            "2021-03-23 15:44:38 INFO: number of attribute 21\n",
            "2021-03-23 15:44:38 INFO: dec 1st rnn LSTMCell(240, 400)\n",
            "2021-03-23 15:44:38 INFO: number of parameter 8708190\n",
            "2021-03-23 15:44:40 INFO: At 0-th epoch with lr 0.001000.\n",
            "  0% 0/500 [00:00<?, ?it/s]/usr/local/lib/python3.7/dist-packages/numpy/core/_asarray.py:83: VisibleDeprecationWarning: Creating an ndarray from ragged nested sequences (which is a list-or-tuple of lists-or-tuples-or ndarrays with different lengths or shapes) is deprecated. If you meant to do this, you must specify 'dtype=object' when creating the ndarray\n",
            "  return array(a, dtype, copy=False, order=order)\n",
            "|| 505/? [01:01<00:00,  8.26it/s]\n",
            "100% 3/3 [00:00<00:00, 28.16it/s]\n",
            "2021-03-23 15:45:42 INFO: Average dev loss value per instance is 0.912720 at the end of epoch 0\n",
            "100% 50/50 [00:00<00:00, 99.40it/s] \n",
            "2021-03-23 15:45:42 INFO: dev accuracy is 30.000000 at the end of epoch 0\n",
            "2021-03-23 15:45:42 INFO: dev average edit distance is 1.300000 at the end of epoch 0\n",
            "2021-03-23 15:45:42 INFO: At 1-th epoch with lr 0.001000.\n",
            "|| 505/? [01:00<00:00,  8.34it/s]\n",
            "100% 3/3 [00:00<00:00, 28.75it/s]\n",
            "2021-03-23 15:46:43 INFO: Average dev loss value per instance is 0.844172 at the end of epoch 1\n",
            "100% 50/50 [00:00<00:00, 101.44it/s]\n",
            "2021-03-23 15:46:43 INFO: dev accuracy is 30.000000 at the end of epoch 1\n",
            "2021-03-23 15:46:43 INFO: dev average edit distance is 1.400000 at the end of epoch 1\n",
            "2021-03-23 15:46:44 INFO: At 2-th epoch with lr 0.001000.\n",
            "|| 505/? [01:00<00:00,  8.41it/s]\n",
            "100% 3/3 [00:00<00:00, 23.65it/s]\n",
            "2021-03-23 15:47:44 INFO: Average dev loss value per instance is 0.847041 at the end of epoch 2\n",
            "100% 50/50 [00:00<00:00, 98.05it/s]\n",
            "2021-03-23 15:47:44 INFO: dev accuracy is 32.000000 at the end of epoch 2\n",
            "2021-03-23 15:47:44 INFO: dev average edit distance is 1.320000 at the end of epoch 2\n",
            "2021-03-23 15:47:45 INFO: At 3-th epoch with lr 0.001000.\n",
            "|| 505/? [00:59<00:00,  8.42it/s]\n",
            "100% 3/3 [00:00<00:00, 28.78it/s]\n",
            "2021-03-23 15:48:45 INFO: Average dev loss value per instance is 0.893297 at the end of epoch 3\n",
            "100% 50/50 [00:00<00:00, 95.41it/s]\n",
            "2021-03-23 15:48:45 INFO: dev accuracy is 26.000000 at the end of epoch 3\n",
            "2021-03-23 15:48:45 INFO: dev average edit distance is 1.460000 at the end of epoch 3\n",
            "2021-03-23 15:48:45 INFO: At 4-th epoch with lr 0.001000.\n",
            "|| 505/? [01:00<00:00,  8.37it/s]\n",
            "100% 3/3 [00:00<00:00, 26.19it/s]\n",
            "2021-03-23 15:49:46 INFO: Average dev loss value per instance is 0.680868 at the end of epoch 4\n",
            "100% 50/50 [00:00<00:00, 100.80it/s]\n",
            "2021-03-23 15:49:46 INFO: dev accuracy is 42.000000 at the end of epoch 4\n",
            "2021-03-23 15:49:46 INFO: dev average edit distance is 1.240000 at the end of epoch 4\n",
            "2021-03-23 15:49:46 INFO: At 5-th epoch with lr 0.001000.\n",
            "|| 505/? [01:00<00:00,  8.40it/s]\n",
            "100% 3/3 [00:00<00:00, 30.11it/s]\n",
            "2021-03-23 15:50:47 INFO: Average dev loss value per instance is 0.750842 at the end of epoch 5\n",
            "100% 50/50 [00:00<00:00, 99.68it/s]\n",
            "2021-03-23 15:50:47 INFO: dev accuracy is 20.000000 at the end of epoch 5\n",
            "2021-03-23 15:50:47 INFO: dev average edit distance is 1.400000 at the end of epoch 5\n",
            "2021-03-23 15:50:47 INFO: At 6-th epoch with lr 0.001000.\n",
            "|| 505/? [01:00<00:00,  8.40it/s]\n",
            "100% 3/3 [00:00<00:00, 29.61it/s]\n",
            "2021-03-23 15:51:48 INFO: Average dev loss value per instance is 0.529853 at the end of epoch 6\n",
            "100% 50/50 [00:00<00:00, 101.29it/s]\n",
            "2021-03-23 15:51:48 INFO: dev accuracy is 34.000000 at the end of epoch 6\n",
            "2021-03-23 15:51:48 INFO: dev average edit distance is 1.180000 at the end of epoch 6\n",
            "2021-03-23 15:51:48 INFO: At 7-th epoch with lr 0.001000.\n",
            "|| 505/? [00:59<00:00,  8.46it/s]\n",
            "100% 3/3 [00:00<00:00, 29.90it/s]\n",
            "2021-03-23 15:52:48 INFO: Average dev loss value per instance is 0.617277 at the end of epoch 7\n",
            "100% 50/50 [00:00<00:00, 100.32it/s]\n",
            "2021-03-23 15:52:49 INFO: dev accuracy is 40.000000 at the end of epoch 7\n",
            "2021-03-23 15:52:49 INFO: dev average edit distance is 1.180000 at the end of epoch 7\n",
            "2021-03-23 15:52:49 INFO: At 8-th epoch with lr 0.001000.\n",
            "|| 505/? [00:59<00:00,  8.42it/s]\n",
            "100% 3/3 [00:00<00:00, 29.87it/s]\n",
            "2021-03-23 15:53:49 INFO: Average dev loss value per instance is 0.582232 at the end of epoch 8\n",
            "100% 50/50 [00:00<00:00, 102.17it/s]\n",
            "2021-03-23 15:53:49 INFO: dev accuracy is 42.000000 at the end of epoch 8\n",
            "2021-03-23 15:53:49 INFO: dev average edit distance is 1.180000 at the end of epoch 8\n",
            "2021-03-23 15:53:50 INFO: At 9-th epoch with lr 0.001000.\n",
            "|| 505/? [01:00<00:00,  8.41it/s]\n",
            "100% 3/3 [00:00<00:00, 30.43it/s]\n",
            "2021-03-23 15:54:50 INFO: Average dev loss value per instance is 0.650020 at the end of epoch 9\n",
            "100% 50/50 [00:00<00:00, 103.02it/s]\n",
            "2021-03-23 15:54:50 INFO: dev accuracy is 34.000000 at the end of epoch 9\n",
            "2021-03-23 15:54:50 INFO: dev average edit distance is 1.180000 at the end of epoch 9\n",
            "2021-03-23 15:54:50 INFO: At 10-th epoch with lr 0.001000.\n",
            "|| 505/? [00:59<00:00,  8.44it/s]\n",
            "100% 3/3 [00:00<00:00, 29.67it/s]\n",
            "2021-03-23 15:55:50 INFO: Average dev loss value per instance is 0.615719 at the end of epoch 10\n",
            "100% 50/50 [00:00<00:00, 99.49it/s]\n",
            "2021-03-23 15:55:51 INFO: dev accuracy is 38.000000 at the end of epoch 10\n",
            "2021-03-23 15:55:51 INFO: dev average edit distance is 1.140000 at the end of epoch 10\n",
            "2021-03-23 15:55:51 INFO: At 11-th epoch with lr 0.001000.\n",
            "|| 505/? [01:00<00:00,  8.41it/s]\n",
            "100% 3/3 [00:00<00:00, 30.26it/s]\n",
            "2021-03-23 15:56:51 INFO: Average dev loss value per instance is 0.635823 at the end of epoch 11\n",
            "100% 50/50 [00:00<00:00, 101.19it/s]\n",
            "2021-03-23 15:56:52 INFO: dev accuracy is 30.000000 at the end of epoch 11\n",
            "2021-03-23 15:56:52 INFO: dev average edit distance is 1.120000 at the end of epoch 11\n",
            "2021-03-23 15:56:52 INFO: At 12-th epoch with lr 0.001000.\n",
            "|| 505/? [00:59<00:00,  8.42it/s]\n",
            "100% 3/3 [00:00<00:00, 29.81it/s]\n",
            "2021-03-23 15:57:52 INFO: Average dev loss value per instance is 0.679018 at the end of epoch 12\n",
            "100% 50/50 [00:00<00:00, 94.55it/s]\n",
            "2021-03-23 15:57:52 INFO: dev accuracy is 36.000000 at the end of epoch 12\n",
            "2021-03-23 15:57:52 INFO: dev average edit distance is 1.140000 at the end of epoch 12\n",
            "2021-03-23 15:57:53 INFO: At 13-th epoch with lr 0.001000.\n",
            "|| 505/? [00:59<00:00,  8.43it/s]\n",
            "100% 3/3 [00:00<00:00, 28.75it/s]\n",
            "2021-03-23 15:58:53 INFO: Average dev loss value per instance is 0.683379 at the end of epoch 13\n",
            "100% 50/50 [00:00<00:00, 99.02it/s] \n",
            "2021-03-23 15:58:53 INFO: dev accuracy is 46.000000 at the end of epoch 13\n",
            "2021-03-23 15:58:53 INFO: dev average edit distance is 0.960000 at the end of epoch 13\n",
            "2021-03-23 15:58:53 INFO: At 14-th epoch with lr 0.001000.\n",
            "|| 505/? [00:59<00:00,  8.52it/s]\n",
            "100% 3/3 [00:00<00:00, 26.61it/s]\n",
            "2021-03-23 15:59:53 INFO: Average dev loss value per instance is 0.841241 at the end of epoch 14\n",
            "100% 50/50 [00:00<00:00, 99.49it/s]\n",
            "2021-03-23 15:59:53 INFO: dev accuracy is 36.000000 at the end of epoch 14\n",
            "2021-03-23 15:59:53 INFO: dev average edit distance is 1.180000 at the end of epoch 14\n",
            "2021-03-23 15:59:53 INFO: loading model/sigmorphon19/task1/tag-soft/german--middle-high-german.nll_0.6834.acc_46.0.dist_0.96.epoch_13 for testing\n",
            "2021-03-23 15:59:53 INFO: load model in model/sigmorphon19/task1/tag-soft/german--middle-high-german.nll_0.6834.acc_46.0.dist_0.96.epoch_13\n",
            "2021-03-23 15:59:53 INFO: decoding dev set\n",
            "100% 50/50 [00:00<00:00, 98.71it/s]\n",
            "2021-03-23 15:59:54 INFO: finished decoding 50 dev instance\n"
          ],
          "name": "stdout"
        }
      ]
    }
  ]
}