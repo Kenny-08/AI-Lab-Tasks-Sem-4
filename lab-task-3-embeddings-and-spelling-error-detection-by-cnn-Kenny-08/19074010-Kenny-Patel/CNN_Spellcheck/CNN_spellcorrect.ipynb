{
  "nbformat": 4,
  "nbformat_minor": 0,
  "metadata": {
    "colab": {
      "name": "CNN_spellcorrect.ipynb",
      "provenance": []
    },
    "kernelspec": {
      "name": "python3",
      "display_name": "Python 3"
    },
    "accelerator": "GPU"
  },
  "cells": [
    {
      "cell_type": "code",
      "metadata": {
        "id": "49oZKpqSUqlV"
      },
      "source": [
        "import numpy as np\r\n",
        "import pandas as pd\r\n",
        "import matplotlib.pyplot as plt\r\n",
        "\r\n",
        "from tensorflow.keras.models import Model\r\n",
        "from tensorflow.keras.layers import Embedding, Conv1D, MaxPooling1D, Dense, Input\r\n",
        "from sklearn.model_selection import train_test_split"
      ],
      "execution_count": 70,
      "outputs": []
    },
    {
      "cell_type": "code",
      "metadata": {
        "id": "JkhJIlOia9ID"
      },
      "source": [
        "with open(\"incorrect_words.txt\",\"r\") as fil:\r\n",
        "  z = fil.readlines()\r\n",
        "lst = []\r\n",
        "for x in z:\r\n",
        "  lst.append(x[:-1])"
      ],
      "execution_count": 71,
      "outputs": []
    },
    {
      "cell_type": "code",
      "metadata": {
        "colab": {
          "base_uri": "https://localhost:8080/"
        },
        "id": "VmbnGw_rbzoy",
        "outputId": "07b66414-9d0a-4437-f8c8-3822745cca0e"
      },
      "source": [
        "lst = list(set(lst))\r\n",
        "len(lst)"
      ],
      "execution_count": 72,
      "outputs": [
        {
          "output_type": "execute_result",
          "data": {
            "text/plain": [
              "40185"
            ]
          },
          "metadata": {
            "tags": []
          },
          "execution_count": 72
        }
      ]
    },
    {
      "cell_type": "code",
      "metadata": {
        "colab": {
          "base_uri": "https://localhost:8080/"
        },
        "id": "uGCACdkNcniO",
        "outputId": "f9a2caa0-acc5-4221-9450-12b987b9435d"
      },
      "source": [
        "incorrect=[]\r\n",
        "for i in lst:\r\n",
        "  if i[0] != '$':\r\n",
        "    incorrect.append(i)\r\n",
        "len(incorrect)"
      ],
      "execution_count": 73,
      "outputs": [
        {
          "output_type": "execute_result",
          "data": {
            "text/plain": [
              "34049"
            ]
          },
          "metadata": {
            "tags": []
          },
          "execution_count": 73
        }
      ]
    },
    {
      "cell_type": "code",
      "metadata": {
        "colab": {
          "base_uri": "https://localhost:8080/"
        },
        "id": "YU2DTg42duzz",
        "outputId": "3031e697-5862-42b5-f494-d2ecc173c134"
      },
      "source": [
        "with open(\"correct_words.txt\",\"r\") as fil:\r\n",
        "  out = fil.readlines()\r\n",
        "out[0]\r\n",
        "correct = []\r\n",
        "for x in out:\r\n",
        "  correct.append(x[:-1])\r\n",
        "len(correct)"
      ],
      "execution_count": 74,
      "outputs": [
        {
          "output_type": "execute_result",
          "data": {
            "text/plain": [
              "370103"
            ]
          },
          "metadata": {
            "tags": []
          },
          "execution_count": 74
        }
      ]
    },
    {
      "cell_type": "code",
      "metadata": {
        "id": "Yl8Kd6tpespf"
      },
      "source": [
        "num_of_incorrect = 30000\r\n",
        "num_of_correct = 10*num_of_incorrect"
      ],
      "execution_count": 75,
      "outputs": []
    },
    {
      "cell_type": "code",
      "metadata": {
        "id": "xs_kgK9ljOWH"
      },
      "source": [
        "data = []\r\n",
        "for i in range(num_of_incorrect):\r\n",
        "  data.append([incorrect[i],0])\r\n",
        "for i in range(num_of_correct):\r\n",
        "  data.append([correct[i],1])"
      ],
      "execution_count": 76,
      "outputs": []
    },
    {
      "cell_type": "code",
      "metadata": {
        "id": "3zDiPP8ZkAxK"
      },
      "source": [
        "import random\r\n",
        "random.shuffle(data)\r\n",
        "data"
      ],
      "execution_count": null,
      "outputs": []
    },
    {
      "cell_type": "code",
      "metadata": {
        "id": "f6s-gujbktW0"
      },
      "source": [
        "with open(\"final_data.txt\",\"w+\") as fil:\r\n",
        "  for d in data:\r\n",
        "    fil.write(d[0]+\", \"+str(d[1]))"
      ],
      "execution_count": 78,
      "outputs": []
    },
    {
      "cell_type": "code",
      "metadata": {
        "id": "lFOBRJTflAJ1"
      },
      "source": [
        "num = []\r\n",
        "word = []\r\n",
        "for d in data:\r\n",
        "  num.append(d[1])\r\n",
        "  word.append(d[0])"
      ],
      "execution_count": 79,
      "outputs": []
    },
    {
      "cell_type": "code",
      "metadata": {
        "id": "GByH4CdlmJva"
      },
      "source": [
        "x_train,x_test,y_train,y_test = train_test_split(word,num)"
      ],
      "execution_count": 80,
      "outputs": []
    },
    {
      "cell_type": "code",
      "metadata": {
        "id": "PatnaqzomfEF"
      },
      "source": [
        "count=1\r\n",
        "symbol_to_index = {}\r\n",
        "for k in x_train:\r\n",
        "  for x in k:\r\n",
        "    if symbol_to_index.get(x.lower()) is None:\r\n",
        "      symbol_to_index[x]=count\r\n",
        "      count+=1\r\n",
        "\r\n",
        "for k in x_test:\r\n",
        "  for x in k:\r\n",
        "    if symbol_to_index.get(x.lower()) is None:\r\n",
        "      symbol_to_index[x]=count\r\n",
        "      count+=1"
      ],
      "execution_count": 81,
      "outputs": []
    },
    {
      "cell_type": "code",
      "metadata": {
        "colab": {
          "base_uri": "https://localhost:8080/"
        },
        "id": "_uFllwXim2P4",
        "outputId": "4ea0d9cb-fffa-4f2e-d482-de77bf470dbf"
      },
      "source": [
        "symbol_to_index"
      ],
      "execution_count": 82,
      "outputs": [
        {
          "output_type": "execute_result",
          "data": {
            "text/plain": [
              "{\"'\": 27,\n",
              " '-': 29,\n",
              " '.': 30,\n",
              " '_': 28,\n",
              " 'a': 8,\n",
              " 'b': 25,\n",
              " 'c': 14,\n",
              " 'd': 15,\n",
              " 'e': 5,\n",
              " 'f': 22,\n",
              " 'g': 19,\n",
              " 'h': 4,\n",
              " 'i': 13,\n",
              " 'j': 23,\n",
              " 'k': 24,\n",
              " 'l': 9,\n",
              " 'm': 1,\n",
              " 'n': 10,\n",
              " 'o': 6,\n",
              " 'p': 7,\n",
              " 'q': 21,\n",
              " 'r': 12,\n",
              " 's': 3,\n",
              " 't': 11,\n",
              " 'u': 2,\n",
              " 'v': 18,\n",
              " 'w': 16,\n",
              " 'x': 20,\n",
              " 'y': 17,\n",
              " 'z': 26}"
            ]
          },
          "metadata": {
            "tags": []
          },
          "execution_count": 82
        }
      ]
    },
    {
      "cell_type": "code",
      "metadata": {
        "colab": {
          "base_uri": "https://localhost:8080/"
        },
        "id": "BPvQG65km74c",
        "outputId": "962ffdfa-65b4-4fff-fa20-5f92ff4fb45c"
      },
      "source": [
        "count"
      ],
      "execution_count": 83,
      "outputs": [
        {
          "output_type": "execute_result",
          "data": {
            "text/plain": [
              "31"
            ]
          },
          "metadata": {
            "tags": []
          },
          "execution_count": 83
        }
      ]
    },
    {
      "cell_type": "code",
      "metadata": {
        "id": "Y8-G9eNpnoPV"
      },
      "source": [
        "lst = []\r\n",
        "for k in x_train:\r\n",
        "  c = []\r\n",
        "  for x in k:\r\n",
        "    c.append(symbol_to_index[x.lower()])\r\n",
        "  lst.append(c)"
      ],
      "execution_count": 84,
      "outputs": []
    },
    {
      "cell_type": "code",
      "metadata": {
        "id": "BtCDZy8mno6G"
      },
      "source": [
        "CT = 1\r\n",
        "for x in lst:\r\n",
        "  if CT < len(x):\r\n",
        "    CT = len(x)"
      ],
      "execution_count": 85,
      "outputs": []
    },
    {
      "cell_type": "code",
      "metadata": {
        "id": "6QXzBrGcnrTU"
      },
      "source": [
        "for i in range(len(lst)):\r\n",
        "  while(len(lst[i])<CT):\r\n",
        "    lst[i].append(0)"
      ],
      "execution_count": 86,
      "outputs": []
    },
    {
      "cell_type": "code",
      "metadata": {
        "id": "swu2UnHcnu3J"
      },
      "source": [
        "bt = []\r\n",
        "for k in x_test:\r\n",
        "  z = []\r\n",
        "  for x in k:\r\n",
        "    z.append(symbol_to_index[x.lower()])\r\n",
        "  bt.append(z)\r\n",
        "for i in range(len(bt)):\r\n",
        "  while(len(bt[i])<CT):\r\n",
        "    bt[i].append(0)"
      ],
      "execution_count": 87,
      "outputs": []
    },
    {
      "cell_type": "code",
      "metadata": {
        "colab": {
          "base_uri": "https://localhost:8080/"
        },
        "id": "qL0_nYZ7nwum",
        "outputId": "b3d62af6-25c6-433b-be75-d2986f389c68"
      },
      "source": [
        "len(bt)"
      ],
      "execution_count": 88,
      "outputs": [
        {
          "output_type": "execute_result",
          "data": {
            "text/plain": [
              "82500"
            ]
          },
          "metadata": {
            "tags": []
          },
          "execution_count": 88
        }
      ]
    },
    {
      "cell_type": "code",
      "metadata": {
        "id": "DTRqmWoVnzM4"
      },
      "source": [
        "V = count"
      ],
      "execution_count": 89,
      "outputs": []
    },
    {
      "cell_type": "code",
      "metadata": {
        "id": "Guqr8LFRn1a2"
      },
      "source": [
        "x_train = np.array(lst)\r\n",
        "x_test = np.array(bt)"
      ],
      "execution_count": 91,
      "outputs": []
    },
    {
      "cell_type": "code",
      "metadata": {
        "colab": {
          "base_uri": "https://localhost:8080/"
        },
        "id": "UhbWazXcn3MG",
        "outputId": "4a6f241c-cd44-4b00-ce33-09f6952d01bf"
      },
      "source": [
        "len(x_test)"
      ],
      "execution_count": 92,
      "outputs": [
        {
          "output_type": "execute_result",
          "data": {
            "text/plain": [
              "82500"
            ]
          },
          "metadata": {
            "tags": []
          },
          "execution_count": 92
        }
      ]
    },
    {
      "cell_type": "code",
      "metadata": {
        "colab": {
          "base_uri": "https://localhost:8080/"
        },
        "id": "rgjvhNJgpToP",
        "outputId": "4b03a67a-8e93-4b57-e85c-b29fbe40ba05"
      },
      "source": [
        "len(x_train)"
      ],
      "execution_count": 93,
      "outputs": [
        {
          "output_type": "execute_result",
          "data": {
            "text/plain": [
              "247500"
            ]
          },
          "metadata": {
            "tags": []
          },
          "execution_count": 93
        }
      ]
    },
    {
      "cell_type": "code",
      "metadata": {
        "id": "uCFpn59RpWLL"
      },
      "source": [
        "i = Input(shape=(CT,))\r\n",
        "x = Embedding(V,20)(i)\r\n",
        "x = Conv1D(1024,7,activation=\"relu\")(x)\r\n",
        "x = MaxPooling1D(3)(x)\r\n",
        "x = Conv1D(1024,3,activation=\"relu\")(x)\r\n",
        "x = MaxPooling1D(3)(x)\r\n",
        "x = Conv1D(1024,1,activation=\"relu\")(x)\r\n",
        "x = Conv1D(1024,1,activation=\"relu\")(x)\r\n",
        "x = Conv1D(1024,1,activation=\"relu\")(x)\r\n",
        "x = Conv1D(1024,1,activation=\"relu\")(x)\r\n",
        "x = MaxPooling1D(1)(x)\r\n",
        "x = Dense(2048,activation=\"relu\")(x)\r\n",
        "x = Dense(2048,activation=\"relu\")(x)\r\n",
        "x = Dense(1,activation=\"sigmoid\")(x)\r\n",
        "\r\n",
        "model = Model(i,x)\r\n",
        "model.compile(optimizer=\"adam\",loss=\"binary_crossentropy\",metrics=[\"accuracy\"])"
      ],
      "execution_count": 94,
      "outputs": []
    },
    {
      "cell_type": "code",
      "metadata": {
        "id": "Ai27dCmOpaJf"
      },
      "source": [
        "y_train = np.array(y_train)\r\n",
        "y_test = np.array(y_test)"
      ],
      "execution_count": 95,
      "outputs": []
    },
    {
      "cell_type": "code",
      "metadata": {
        "colab": {
          "base_uri": "https://localhost:8080/"
        },
        "id": "t4qbvH3fpdPi",
        "outputId": "404b05f6-b896-4dad-8bbc-2ee49e01ad85"
      },
      "source": [
        "r = model.fit(x_train,y_train,validation_data=(x_test,y_test),epochs=20)"
      ],
      "execution_count": 96,
      "outputs": [
        {
          "output_type": "stream",
          "text": [
            "Epoch 1/20\n",
            "7735/7735 [==============================] - 235s 30ms/step - loss: 0.3105 - accuracy: 0.9084 - val_loss: 0.3082 - val_accuracy: 0.9094\n",
            "Epoch 2/20\n",
            "7735/7735 [==============================] - 231s 30ms/step - loss: 0.3067 - accuracy: 0.9086 - val_loss: 0.3052 - val_accuracy: 0.9094\n",
            "Epoch 3/20\n",
            "7735/7735 [==============================] - 232s 30ms/step - loss: 0.3086 - accuracy: 0.9091 - val_loss: 0.3047 - val_accuracy: 0.9094\n",
            "Epoch 4/20\n",
            "7735/7735 [==============================] - 231s 30ms/step - loss: 0.3054 - accuracy: 0.9090 - val_loss: 0.3043 - val_accuracy: 0.9094\n",
            "Epoch 5/20\n",
            "7735/7735 [==============================] - 232s 30ms/step - loss: 0.3058 - accuracy: 0.9088 - val_loss: 0.3054 - val_accuracy: 0.9094\n",
            "Epoch 6/20\n",
            "7735/7735 [==============================] - 231s 30ms/step - loss: 0.3037 - accuracy: 0.9097 - val_loss: 0.3044 - val_accuracy: 0.9094\n",
            "Epoch 7/20\n",
            "7735/7735 [==============================] - 231s 30ms/step - loss: 0.3018 - accuracy: 0.9105 - val_loss: 0.3040 - val_accuracy: 0.9094\n",
            "Epoch 8/20\n",
            "7735/7735 [==============================] - 229s 30ms/step - loss: 0.3052 - accuracy: 0.9090 - val_loss: 0.3047 - val_accuracy: 0.9094\n",
            "Epoch 9/20\n",
            "7735/7735 [==============================] - 233s 30ms/step - loss: 0.3058 - accuracy: 0.9088 - val_loss: 0.3042 - val_accuracy: 0.9094\n",
            "Epoch 10/20\n",
            "7735/7735 [==============================] - 231s 30ms/step - loss: 0.3055 - accuracy: 0.9089 - val_loss: 0.3040 - val_accuracy: 0.9094\n",
            "Epoch 11/20\n",
            "7735/7735 [==============================] - 233s 30ms/step - loss: 0.3057 - accuracy: 0.9087 - val_loss: 0.3040 - val_accuracy: 0.9094\n",
            "Epoch 12/20\n",
            "7735/7735 [==============================] - 231s 30ms/step - loss: 0.3054 - accuracy: 0.9089 - val_loss: 0.3041 - val_accuracy: 0.9094\n",
            "Epoch 13/20\n",
            "7735/7735 [==============================] - 232s 30ms/step - loss: 0.3071 - accuracy: 0.9081 - val_loss: 0.3040 - val_accuracy: 0.9094\n",
            "Epoch 14/20\n",
            "7735/7735 [==============================] - 230s 30ms/step - loss: 0.3056 - accuracy: 0.9088 - val_loss: 0.3040 - val_accuracy: 0.9094\n",
            "Epoch 15/20\n",
            "7735/7735 [==============================] - 231s 30ms/step - loss: 0.3047 - accuracy: 0.9092 - val_loss: 0.3047 - val_accuracy: 0.9094\n",
            "Epoch 16/20\n",
            "7735/7735 [==============================] - 228s 29ms/step - loss: 0.3071 - accuracy: 0.9081 - val_loss: 0.3040 - val_accuracy: 0.9094\n",
            "Epoch 17/20\n",
            "7735/7735 [==============================] - 231s 30ms/step - loss: 0.3074 - accuracy: 0.9080 - val_loss: 0.3040 - val_accuracy: 0.9094\n",
            "Epoch 18/20\n",
            "7735/7735 [==============================] - 230s 30ms/step - loss: 0.3105 - accuracy: 0.9066 - val_loss: 0.3040 - val_accuracy: 0.9094\n",
            "Epoch 19/20\n",
            "7735/7735 [==============================] - 233s 30ms/step - loss: 0.3057 - accuracy: 0.9087 - val_loss: 0.3042 - val_accuracy: 0.9094\n",
            "Epoch 20/20\n",
            "7735/7735 [==============================] - 233s 30ms/step - loss: 0.3049 - accuracy: 0.9091 - val_loss: 0.3041 - val_accuracy: 0.9094\n"
          ],
          "name": "stdout"
        }
      ]
    },
    {
      "cell_type": "code",
      "metadata": {
        "colab": {
          "base_uri": "https://localhost:8080/"
        },
        "id": "tfXqgXi3BZy-",
        "outputId": "2dbc882f-ae76-47bd-efdd-3b826b11968a"
      },
      "source": [
        "model.save('/content')"
      ],
      "execution_count": 105,
      "outputs": [
        {
          "output_type": "stream",
          "text": [
            "INFO:tensorflow:Assets written to: /content/assets\n"
          ],
          "name": "stdout"
        }
      ]
    },
    {
      "cell_type": "code",
      "metadata": {
        "colab": {
          "base_uri": "https://localhost:8080/"
        },
        "id": "6qG2E-C3ATSh",
        "outputId": "6c8082bf-1059-4379-acfb-7fab00fa811a"
      },
      "source": [
        "r.history['accuracy']"
      ],
      "execution_count": 97,
      "outputs": [
        {
          "output_type": "execute_result",
          "data": {
            "text/plain": [
              "[0.9089111089706421,\n",
              " 0.9089939594268799,\n",
              " 0.9089878797531128,\n",
              " 0.9089939594268799,\n",
              " 0.9089939594268799,\n",
              " 0.9089939594268799,\n",
              " 0.9089939594268799,\n",
              " 0.9089939594268799,\n",
              " 0.9089939594268799,\n",
              " 0.9089939594268799,\n",
              " 0.9089939594268799,\n",
              " 0.9089939594268799,\n",
              " 0.9089939594268799,\n",
              " 0.9089939594268799,\n",
              " 0.9089939594268799,\n",
              " 0.9089939594268799,\n",
              " 0.9089939594268799,\n",
              " 0.9089939594268799,\n",
              " 0.9089939594268799,\n",
              " 0.9089939594268799]"
            ]
          },
          "metadata": {
            "tags": []
          },
          "execution_count": 97
        }
      ]
    },
    {
      "cell_type": "code",
      "metadata": {
        "colab": {
          "base_uri": "https://localhost:8080/"
        },
        "id": "GJACdk03AWNv",
        "outputId": "30e0e635-c14d-4895-a1fd-215f8dba9db1"
      },
      "source": [
        "r.history['loss']"
      ],
      "execution_count": 98,
      "outputs": [
        {
          "output_type": "execute_result",
          "data": {
            "text/plain": [
              "[0.3070111870765686,\n",
              " 0.3056996166706085,\n",
              " 0.3074590563774109,\n",
              " 0.3054898679256439,\n",
              " 0.3053687810897827,\n",
              " 0.30533185601234436,\n",
              " 0.30528873205184937,\n",
              " 0.3052580952644348,\n",
              " 0.3052736818790436,\n",
              " 0.30520308017730713,\n",
              " 0.30516666173934937,\n",
              " 0.30515071749687195,\n",
              " 0.3051161468029022,\n",
              " 0.30512359738349915,\n",
              " 0.3051239252090454,\n",
              " 0.305107444524765,\n",
              " 0.3051057457923889,\n",
              " 0.30505144596099854,\n",
              " 0.30507010221481323,\n",
              " 0.30508214235305786]"
            ]
          },
          "metadata": {
            "tags": []
          },
          "execution_count": 98
        }
      ]
    },
    {
      "cell_type": "code",
      "metadata": {
        "colab": {
          "base_uri": "https://localhost:8080/"
        },
        "id": "sGwY-t3eAc3L",
        "outputId": "c3d6cb7f-2dee-48cb-ef3a-f3db496817d7"
      },
      "source": [
        "r.history[\"val_accuracy\"]"
      ],
      "execution_count": 99,
      "outputs": [
        {
          "output_type": "execute_result",
          "data": {
            "text/plain": [
              "[0.9093818068504333,\n",
              " 0.9093818068504333,\n",
              " 0.9093818068504333,\n",
              " 0.9093818068504333,\n",
              " 0.9093818068504333,\n",
              " 0.9093818068504333,\n",
              " 0.9093818068504333,\n",
              " 0.9093818068504333,\n",
              " 0.9093818068504333,\n",
              " 0.9093818068504333,\n",
              " 0.9093818068504333,\n",
              " 0.9093818068504333,\n",
              " 0.9093818068504333,\n",
              " 0.9093818068504333,\n",
              " 0.9093818068504333,\n",
              " 0.9093818068504333,\n",
              " 0.9093818068504333,\n",
              " 0.9093818068504333,\n",
              " 0.9093818068504333,\n",
              " 0.9093818068504333]"
            ]
          },
          "metadata": {
            "tags": []
          },
          "execution_count": 99
        }
      ]
    },
    {
      "cell_type": "code",
      "metadata": {
        "colab": {
          "base_uri": "https://localhost:8080/"
        },
        "id": "G_yJH7DPAhSe",
        "outputId": "18b61463-c66a-420e-9ab1-975dcad0c294"
      },
      "source": [
        "r.history['val_loss']"
      ],
      "execution_count": 100,
      "outputs": [
        {
          "output_type": "execute_result",
          "data": {
            "text/plain": [
              "[0.3081883490085602,\n",
              " 0.305168479681015,\n",
              " 0.30465272068977356,\n",
              " 0.3042909502983093,\n",
              " 0.3054148554801941,\n",
              " 0.30437177419662476,\n",
              " 0.3039904534816742,\n",
              " 0.30468130111694336,\n",
              " 0.30416354537010193,\n",
              " 0.3040171265602112,\n",
              " 0.30396637320518494,\n",
              " 0.30406537652015686,\n",
              " 0.3040097653865814,\n",
              " 0.3039636015892029,\n",
              " 0.3047085404396057,\n",
              " 0.3040265738964081,\n",
              " 0.30398431420326233,\n",
              " 0.3040276765823364,\n",
              " 0.30418118834495544,\n",
              " 0.3040749728679657]"
            ]
          },
          "metadata": {
            "tags": []
          },
          "execution_count": 100
        }
      ]
    }
  ]
}