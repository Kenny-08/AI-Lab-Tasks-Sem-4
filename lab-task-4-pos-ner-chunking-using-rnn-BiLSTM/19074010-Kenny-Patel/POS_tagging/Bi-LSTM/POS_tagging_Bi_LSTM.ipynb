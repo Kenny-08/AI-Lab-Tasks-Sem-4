{
  "nbformat": 4,
  "nbformat_minor": 0,
  "metadata": {
    "colab": {
      "name": "POS_tagging_Bi_LSTM.ipynb",
      "provenance": []
    },
    "kernelspec": {
      "name": "python3",
      "display_name": "Python 3"
    }
  },
  "cells": [
    {
      "cell_type": "code",
      "metadata": {
        "id": "ZMZeBZ8wBoI0"
      },
      "source": [
        "import numpy as np\r\n",
        "import matplotlib.pyplot as plt\r\n",
        "from keras.preprocessing.text import Tokenizer\r\n",
        "from keras.preprocessing.sequence import pad_sequences\r\n",
        "from keras.utils.np_utils import to_categorical\r\n",
        "from sklearn.model_selection import train_test_split\r\n",
        "from keras.layers import LSTM, SimpleRNN\r\n",
        "from tensorflow.keras.layers import Input,Dense, SimpleRNN, Embedding, TimeDistributed, Bidirectional\r\n",
        "from keras.models import Sequential\r\n",
        "from keras.layers import Embedding\r\n",
        "from keras.layers import Dense, Input\r\n",
        "from keras.layers import TimeDistributed\r\n",
        "from keras.models import Model"
      ],
      "execution_count": 17,
      "outputs": []
    },
    {
      "cell_type": "code",
      "metadata": {
        "id": "a-NM_WezEsUQ"
      },
      "source": [
        "# preparing dataset\r\n",
        "\r\n",
        "file1 = open(\"/content/POS_train.txt\", \"r\")\r\n",
        "X = [] # contains the words\r\n",
        "Y = [] # contains corresponding tags\r\n",
        "x = []\r\n",
        "y = []\r\n",
        "for i in file1:\r\n",
        "  s = i.split(\" \")\r\n",
        "  if s[0]!='.':\r\n",
        "    x.append(s[0])\r\n",
        "    y.append(s[1][:-1])\r\n",
        "  else:\r\n",
        "    X.append(x)\r\n",
        "    Y.append(y)\r\n",
        "    x = []\r\n",
        "    y = []\r\n",
        "# print(X)\r\n",
        "# print(Y)"
      ],
      "execution_count": 18,
      "outputs": []
    },
    {
      "cell_type": "code",
      "metadata": {
        "colab": {
          "base_uri": "https://localhost:8080/"
        },
        "id": "zK8EUzerEvr0",
        "outputId": "04a5f0c2-4e61-4d2d-9fda-1496a991c135"
      },
      "source": [
        "unique_words = len(set([word.lower() for sentence in X for word in sentence]))\r\n",
        "print(unique_words)"
      ],
      "execution_count": 19,
      "outputs": [
        {
          "output_type": "stream",
          "text": [
            "17258\n"
          ],
          "name": "stdout"
        }
      ]
    },
    {
      "cell_type": "code",
      "metadata": {
        "colab": {
          "base_uri": "https://localhost:8080/"
        },
        "id": "ISmmh5DPEyAx",
        "outputId": "ee331865-0207-422f-90d3-04f7f3aaefbb"
      },
      "source": [
        "# to find the different types of tags\r\n",
        "total_tags   = len(set([word.lower() for sentence in Y for word in sentence]))\r\n",
        "print(total_tags)"
      ],
      "execution_count": 20,
      "outputs": [
        {
          "output_type": "stream",
          "text": [
            "45\n"
          ],
          "name": "stdout"
        }
      ]
    },
    {
      "cell_type": "code",
      "metadata": {
        "colab": {
          "base_uri": "https://localhost:8080/"
        },
        "id": "QOJ9cMv5E1ch",
        "outputId": "c186de20-623a-4329-e570-920c8f23cc78"
      },
      "source": [
        "# code to vectorize X and Y\r\n",
        "\r\n",
        "# encoding X\r\n",
        "word_tokenizer = Tokenizer()              # instantiate tokeniser\r\n",
        "word_tokenizer.fit_on_texts(X)            # fit tokeniser on data\r\n",
        "# use the tokeniser to encode input sequence\r\n",
        "X_encd = word_tokenizer.texts_to_sequences(X)  \r\n",
        "\r\n",
        "# encoding Y\r\n",
        "tag_tokenizer = Tokenizer()\r\n",
        "tag_tokenizer.fit_on_texts(Y)\r\n",
        "Y_encd = tag_tokenizer.texts_to_sequences(Y)\r\n",
        "\r\n",
        "# look at first encoded data point\r\n",
        "\r\n",
        "print('X: ', X_encd[0])\r\n",
        "print('Y: ', Y_encd[0])"
      ],
      "execution_count": 21,
      "outputs": [
        {
          "output_type": "stream",
          "text": [
            "X:  [1536, 7, 2, 1637, 15, 1106, 184, 5, 207, 246, 1146, 4973, 71, 481, 566, 9, 461, 1, 252, 9, 1750, 2555, 1, 4171, 5, 598, 6, 1309, 1537, 21, 736, 8, 549, 10, 6326, 8935]\n",
            "Y:  [1, 2, 4, 1, 16, 11, 15, 14, 12, 4, 6, 1, 2, 1, 5, 2, 3, 7, 6, 2, 1, 1, 7, 12, 14, 12, 4, 6, 1, 2, 3, 13, 3, 22, 6, 5]\n"
          ],
          "name": "stdout"
        }
      ]
    },
    {
      "cell_type": "code",
      "metadata": {
        "colab": {
          "base_uri": "https://localhost:8080/"
        },
        "id": "0hgZasBME8l_",
        "outputId": "89116fcd-9bb1-42bc-f7e8-085bab905769"
      },
      "source": [
        "# check length of longest sentence\r\n",
        "longest = [len(seq) for seq in X_encd]\r\n",
        "print(\"longest sentence: {}\".format(max(longest)))"
      ],
      "execution_count": 22,
      "outputs": [
        {
          "output_type": "stream",
          "text": [
            "longest sentence: 130\n"
          ],
          "name": "stdout"
        }
      ]
    },
    {
      "cell_type": "code",
      "metadata": {
        "colab": {
          "base_uri": "https://localhost:8080/"
        },
        "id": "w-GKlxSLE9zm",
        "outputId": "2ab0581d-bf8c-4dbc-8060-20ebd262415e"
      },
      "source": [
        "# Pad Sequences\r\n",
        "\r\n",
        "# we set a particular sentence length (max_length)\r\n",
        "# sentences longer than max_length - truncated from the back\r\n",
        "# sentences shorter than max_length - padded with zeros in front\r\n",
        "\r\n",
        "max_length = 100\r\n",
        "\r\n",
        "X_padded = pad_sequences(X_encd, maxlen= max_length, padding=\"pre\", truncating=\"post\")\r\n",
        "Y_padded = pad_sequences(Y_encd, maxlen= max_length, padding=\"pre\", truncating=\"post\")\r\n",
        "# print the first sequence\r\n",
        "print(X_padded[0])\r\n",
        "print(Y_padded[0])"
      ],
      "execution_count": 23,
      "outputs": [
        {
          "output_type": "stream",
          "text": [
            "[   0    0    0    0    0    0    0    0    0    0    0    0    0    0\n",
            "    0    0    0    0    0    0    0    0    0    0    0    0    0    0\n",
            "    0    0    0    0    0    0    0    0    0    0    0    0    0    0\n",
            "    0    0    0    0    0    0    0    0    0    0    0    0    0    0\n",
            "    0    0    0    0    0    0    0    0 1536    7    2 1637   15 1106\n",
            "  184    5  207  246 1146 4973   71  481  566    9  461    1  252    9\n",
            " 1750 2555    1 4171    5  598    6 1309 1537   21  736    8  549   10\n",
            " 6326 8935]\n",
            "[ 0  0  0  0  0  0  0  0  0  0  0  0  0  0  0  0  0  0  0  0  0  0  0  0\n",
            "  0  0  0  0  0  0  0  0  0  0  0  0  0  0  0  0  0  0  0  0  0  0  0  0\n",
            "  0  0  0  0  0  0  0  0  0  0  0  0  0  0  0  0  1  2  4  1 16 11 15 14\n",
            " 12  4  6  1  2  1  5  2  3  7  6  2  1  1  7 12 14 12  4  6  1  2  3 13\n",
            "  3 22  6  5]\n"
          ],
          "name": "stdout"
        }
      ]
    },
    {
      "cell_type": "code",
      "metadata": {
        "id": "bFLzhnqaFCPi"
      },
      "source": [
        "# assign padded sequences to X and Y\r\n",
        "X, Y = X_padded, Y_padded"
      ],
      "execution_count": 24,
      "outputs": []
    },
    {
      "cell_type": "code",
      "metadata": {
        "colab": {
          "base_uri": "https://localhost:8080/"
        },
        "id": "tczFO4S8FEnB",
        "outputId": "0233238d-64e9-4f37-f280-a97f8976f3d2"
      },
      "source": [
        "# use Keras' to_categorical function to one-hot encode Y\r\n",
        "Y = to_categorical(Y)\r\n",
        "Y.shape"
      ],
      "execution_count": 25,
      "outputs": [
        {
          "output_type": "execute_result",
          "data": {
            "text/plain": [
              "(8725, 100, 46)"
            ]
          },
          "metadata": {
            "tags": []
          },
          "execution_count": 25
        }
      ]
    },
    {
      "cell_type": "code",
      "metadata": {
        "id": "4ZWxq2qYFJQR"
      },
      "source": [
        "# split entire data into training and testing sets\r\n",
        "ts = 0.15\r\n",
        "X_train, X_test, Y_train, Y_test = train_test_split(X, Y, test_size=ts, random_state=4)"
      ],
      "execution_count": 26,
      "outputs": []
    },
    {
      "cell_type": "code",
      "metadata": {
        "colab": {
          "base_uri": "https://localhost:8080/"
        },
        "id": "3ilvpG60FLdq",
        "outputId": "602f667b-683a-4b13-9db2-c0c2de7926df"
      },
      "source": [
        "X_train = np.array(X_train)\r\n",
        "Y_train = np.array(Y_train)\r\n",
        "X_test = np.array(X_test)\r\n",
        "Y_test = np.array(Y_test)\r\n",
        "X_train.shape"
      ],
      "execution_count": 27,
      "outputs": [
        {
          "output_type": "execute_result",
          "data": {
            "text/plain": [
              "(7416, 100)"
            ]
          },
          "metadata": {
            "tags": []
          },
          "execution_count": 27
        }
      ]
    },
    {
      "cell_type": "code",
      "metadata": {
        "colab": {
          "base_uri": "https://localhost:8080/"
        },
        "id": "-gK3alOmFT9p",
        "outputId": "243a013b-15df-4877-e280-3560fe58ecfa"
      },
      "source": [
        "Y_train.shape"
      ],
      "execution_count": 28,
      "outputs": [
        {
          "output_type": "execute_result",
          "data": {
            "text/plain": [
              "(7416, 100, 46)"
            ]
          },
          "metadata": {
            "tags": []
          },
          "execution_count": 28
        }
      ]
    },
    {
      "cell_type": "code",
      "metadata": {
        "colab": {
          "base_uri": "https://localhost:8080/"
        },
        "id": "h0U0RGJ7FX0t",
        "outputId": "34e79c70-a869-44f0-ec75-16c20248054e"
      },
      "source": [
        "# total number of tags\r\n",
        "NUM_CLASSES = Y.shape[2]\r\n",
        "NUM_CLASSES"
      ],
      "execution_count": 29,
      "outputs": [
        {
          "output_type": "execute_result",
          "data": {
            "text/plain": [
              "46"
            ]
          },
          "metadata": {
            "tags": []
          },
          "execution_count": 29
        }
      ]
    },
    {
      "cell_type": "code",
      "metadata": {
        "colab": {
          "base_uri": "https://localhost:8080/"
        },
        "id": "AYfQPgpRFZNM",
        "outputId": "580f917a-4657-4016-b401-0275469c76fe"
      },
      "source": [
        "bilstm_model = Sequential()\r\n",
        "bilstm_model.add(Embedding(input_dim = 17259, \r\n",
        "                           output_dim = 100,\r\n",
        "                           input_length = 130,\r\n",
        "                           trainable = False\r\n",
        "))\r\n",
        "bilstm_model.add(Bidirectional(LSTM(64, return_sequences=True)))\r\n",
        "bilstm_model.add(TimeDistributed(Dense(NUM_CLASSES, activation='softmax')))\r\n",
        "#compile model\r\n",
        "bilstm_model.compile(loss='categorical_crossentropy',\r\n",
        "              optimizer='adam',\r\n",
        "              metrics=['acc'])\r\n",
        "# check summary of model\r\n",
        "bilstm_model.summary()"
      ],
      "execution_count": 30,
      "outputs": [
        {
          "output_type": "stream",
          "text": [
            "Model: \"sequential_1\"\n",
            "_________________________________________________________________\n",
            "Layer (type)                 Output Shape              Param #   \n",
            "=================================================================\n",
            "embedding_1 (Embedding)      (None, 130, 100)          1725900   \n",
            "_________________________________________________________________\n",
            "bidirectional (Bidirectional (None, 130, 128)          84480     \n",
            "_________________________________________________________________\n",
            "time_distributed (TimeDistri (None, 130, 46)           5934      \n",
            "=================================================================\n",
            "Total params: 1,816,314\n",
            "Trainable params: 90,414\n",
            "Non-trainable params: 1,725,900\n",
            "_________________________________________________________________\n"
          ],
          "name": "stdout"
        }
      ]
    },
    {
      "cell_type": "code",
      "metadata": {
        "colab": {
          "base_uri": "https://localhost:8080/"
        },
        "id": "YqsY1EqyPEpJ",
        "outputId": "ed32a44b-f80a-40cf-e9fd-15dd2528dabe"
      },
      "source": [
        "bilstm_training = bilstm_model.fit(X_train, Y_train, batch_size=128, epochs=10, validation_data=(X_test, Y_test))"
      ],
      "execution_count": 36,
      "outputs": [
        {
          "output_type": "stream",
          "text": [
            "Epoch 1/10\n",
            "58/58 [==============================] - 17s 301ms/step - loss: 0.6017 - acc: 0.8388 - val_loss: 0.5820 - val_acc: 0.8428\n",
            "Epoch 2/10\n",
            "58/58 [==============================] - 17s 300ms/step - loss: 0.5756 - acc: 0.8464 - val_loss: 0.5570 - val_acc: 0.8520\n",
            "Epoch 3/10\n",
            "58/58 [==============================] - 17s 300ms/step - loss: 0.5505 - acc: 0.8551 - val_loss: 0.5331 - val_acc: 0.8582\n",
            "Epoch 4/10\n",
            "58/58 [==============================] - 17s 299ms/step - loss: 0.5272 - acc: 0.8595 - val_loss: 0.5113 - val_acc: 0.8616\n",
            "Epoch 5/10\n",
            "58/58 [==============================] - 17s 301ms/step - loss: 0.5066 - acc: 0.8621 - val_loss: 0.4921 - val_acc: 0.8636\n",
            "Epoch 6/10\n",
            "58/58 [==============================] - 18s 302ms/step - loss: 0.4886 - acc: 0.8641 - val_loss: 0.4757 - val_acc: 0.8654\n",
            "Epoch 7/10\n",
            "58/58 [==============================] - 17s 298ms/step - loss: 0.4727 - acc: 0.8663 - val_loss: 0.4602 - val_acc: 0.8674\n",
            "Epoch 8/10\n",
            "58/58 [==============================] - 17s 297ms/step - loss: 0.4582 - acc: 0.8695 - val_loss: 0.4456 - val_acc: 0.8724\n",
            "Epoch 9/10\n",
            "58/58 [==============================] - 17s 299ms/step - loss: 0.4441 - acc: 0.8736 - val_loss: 0.4316 - val_acc: 0.8769\n",
            "Epoch 10/10\n",
            "58/58 [==============================] - 17s 299ms/step - loss: 0.4311 - acc: 0.8779 - val_loss: 0.4198 - val_acc: 0.8817\n"
          ],
          "name": "stdout"
        }
      ]
    },
    {
      "cell_type": "code",
      "metadata": {
        "colab": {
          "base_uri": "https://localhost:8080/"
        },
        "id": "Ko1gcwfoTqNU",
        "outputId": "18e36b69-a8cc-4772-b7a9-4947ab5e0c96"
      },
      "source": [
        "bilstm_model.save('bilstm_model.bin')"
      ],
      "execution_count": 43,
      "outputs": [
        {
          "output_type": "stream",
          "text": [
            "WARNING:absl:Found untraced functions such as lstm_cell_1_layer_call_fn, lstm_cell_1_layer_call_and_return_conditional_losses, lstm_cell_2_layer_call_fn, lstm_cell_2_layer_call_and_return_conditional_losses, lstm_cell_1_layer_call_fn while saving (showing 5 of 10). These functions will not be directly callable after loading.\n",
            "WARNING:absl:Found untraced functions such as lstm_cell_1_layer_call_fn, lstm_cell_1_layer_call_and_return_conditional_losses, lstm_cell_2_layer_call_fn, lstm_cell_2_layer_call_and_return_conditional_losses, lstm_cell_1_layer_call_fn while saving (showing 5 of 10). These functions will not be directly callable after loading.\n"
          ],
          "name": "stderr"
        },
        {
          "output_type": "stream",
          "text": [
            "INFO:tensorflow:Assets written to: bilstm_model.bin/assets\n"
          ],
          "name": "stdout"
        },
        {
          "output_type": "stream",
          "text": [
            "INFO:tensorflow:Assets written to: bilstm_model.bin/assets\n"
          ],
          "name": "stderr"
        }
      ]
    },
    {
      "cell_type": "code",
      "metadata": {
        "id": "uD4mNM6lUB2O"
      },
      "source": [
        "bilstm_model.save_weights(\"BiLSTM_pos_tagging_model\")"
      ],
      "execution_count": 44,
      "outputs": []
    },
    {
      "cell_type": "code",
      "metadata": {
        "colab": {
          "base_uri": "https://localhost:8080/"
        },
        "id": "QrWEoNbCQPrP",
        "outputId": "980f6128-d23c-4fc8-818d-8029dc1caf1b"
      },
      "source": [
        "bilstm_training.history['acc']"
      ],
      "execution_count": 37,
      "outputs": [
        {
          "output_type": "execute_result",
          "data": {
            "text/plain": [
              "[0.8388322591781616,\n",
              " 0.8463821411132812,\n",
              " 0.8551051616668701,\n",
              " 0.8595321178436279,\n",
              " 0.8620576858520508,\n",
              " 0.8641113638877869,\n",
              " 0.8662985563278198,\n",
              " 0.8694902658462524,\n",
              " 0.8736246228218079,\n",
              " 0.8778815865516663]"
            ]
          },
          "metadata": {
            "tags": []
          },
          "execution_count": 37
        }
      ]
    },
    {
      "cell_type": "code",
      "metadata": {
        "colab": {
          "base_uri": "https://localhost:8080/"
        },
        "id": "7IF85koVQwPm",
        "outputId": "be066b9e-46ed-4481-c0db-4ba0d1c45b10"
      },
      "source": [
        "bilstm_training.history['val_acc']"
      ],
      "execution_count": 38,
      "outputs": [
        {
          "output_type": "execute_result",
          "data": {
            "text/plain": [
              "[0.8428418636322021,\n",
              " 0.8519633412361145,\n",
              " 0.858166515827179,\n",
              " 0.8616424798965454,\n",
              " 0.8635981678962708,\n",
              " 0.8653781414031982,\n",
              " 0.8674026131629944,\n",
              " 0.8723605871200562,\n",
              " 0.8769212961196899,\n",
              " 0.8816577792167664]"
            ]
          },
          "metadata": {
            "tags": []
          },
          "execution_count": 38
        }
      ]
    },
    {
      "cell_type": "code",
      "metadata": {
        "colab": {
          "base_uri": "https://localhost:8080/",
          "height": 295
        },
        "id": "M4LLyj61SYfp",
        "outputId": "8856b1b7-327d-476a-e890-ec781cc09019"
      },
      "source": [
        "# visualise training history\r\n",
        "plt.plot(bilstm_training.history['acc'])\r\n",
        "plt.plot(bilstm_training.history['val_acc'])\r\n",
        "plt.title('model accuracy')\r\n",
        "plt.ylabel('accuracy')\r\n",
        "plt.xlabel('epoch')\r\n",
        "plt.legend(['train', 'test'], loc=\"lower right\")\r\n",
        "plt.show()"
      ],
      "execution_count": 39,
      "outputs": [
        {
          "output_type": "display_data",
          "data": {
            "image/png": "[encoded data removed]",
            "text/plain": [
              "<Figure size 432x288 with 1 Axes>"
            ]
          },
          "metadata": {
            "tags": [],
            "needs_background": "light"
          }
        }
      ]
    },
    {
      "cell_type": "code",
      "metadata": {
        "colab": {
          "base_uri": "https://localhost:8080/"
        },
        "id": "45VT7jVSS8GR",
        "outputId": "5820dbe1-4e50-4caa-8e90-190395e64056"
      },
      "source": [
        "loss, accuracy = bilstm_model.evaluate(X_test, Y_test, verbose = 1)\r\n",
        "print(\"Loss: \",loss)\r\n",
        "print(\"Accuracy: \", accuracy)"
      ],
      "execution_count": 42,
      "outputs": [
        {
          "output_type": "stream",
          "text": [
            "41/41 [==============================] - 1s 31ms/step - loss: 0.4198 - acc: 0.8817\n",
            "Loss:  0.4197750389575958\n",
            "Accuracy:  0.8816577792167664\n"
          ],
          "name": "stdout"
        }
      ]
    }
  ]
}