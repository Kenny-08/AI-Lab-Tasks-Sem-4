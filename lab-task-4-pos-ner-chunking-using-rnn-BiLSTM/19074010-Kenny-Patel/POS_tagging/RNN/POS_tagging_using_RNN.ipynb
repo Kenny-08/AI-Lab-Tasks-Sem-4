{
  "nbformat": 4,
  "nbformat_minor": 0,
  "metadata": {
    "colab": {
      "name": "POS_tagging_using_RNN.ipynb",
      "provenance": []
    },
    "kernelspec": {
      "name": "python3",
      "display_name": "Python 3"
    }
  },
  "cells": [
    {
      "cell_type": "code",
      "metadata": {
        "id": "KnRIpsuqV10Z"
      },
      "source": [
        "import numpy as np\r\n",
        "import matplotlib.pyplot as plt\r\n",
        "from keras.preprocessing.text import Tokenizer\r\n",
        "from keras.preprocessing.sequence import pad_sequences\r\n",
        "from keras.utils.np_utils import to_categorical\r\n",
        "from sklearn.model_selection import train_test_split\r\n",
        "from keras.layers import LSTM, SimpleRNN\r\n",
        "from tensorflow.keras.layers import Input,Dense, SimpleRNN, Embedding, TimeDistributed\r\n",
        "from keras.models import Sequential\r\n",
        "from keras.layers import Embedding\r\n",
        "from keras.layers import Dense, Input\r\n",
        "from keras.layers import TimeDistributed\r\n",
        "from keras.models import Model"
      ],
      "execution_count": 88,
      "outputs": []
    },
    {
      "cell_type": "code",
      "metadata": {
        "id": "3-Rq4DleOh-v"
      },
      "source": [
        "# preparing dataset\r\n",
        "\r\n",
        "file1 = open(\"/content/POS_train.txt\", \"r\")\r\n",
        "X = [] # contains the words\r\n",
        "Y = [] # contains corresponding tags\r\n",
        "x = []\r\n",
        "y = []\r\n",
        "for i in file1:\r\n",
        "  s = i.split(\" \")\r\n",
        "  if s[0]!='.':\r\n",
        "    x.append(s[0])\r\n",
        "    y.append(s[1][:-1])\r\n",
        "  else:\r\n",
        "    X.append(x)\r\n",
        "    Y.append(y)\r\n",
        "    x = []\r\n",
        "    y = []\r\n",
        "# print(X)\r\n",
        "# print(Y)"
      ],
      "execution_count": 74,
      "outputs": []
    },
    {
      "cell_type": "code",
      "metadata": {
        "colab": {
          "base_uri": "https://localhost:8080/"
        },
        "id": "8o3Qfr7qx5t0",
        "outputId": "a0fb178c-3e49-40e3-a48a-a36c56f9fc3c"
      },
      "source": [
        "unique_words = len(set([word.lower() for sentence in X for word in sentence]))\r\n",
        "print(unique_words)"
      ],
      "execution_count": 75,
      "outputs": [
        {
          "output_type": "stream",
          "text": [
            "17258\n"
          ],
          "name": "stdout"
        }
      ]
    },
    {
      "cell_type": "code",
      "metadata": {
        "colab": {
          "base_uri": "https://localhost:8080/"
        },
        "id": "hLnEyttJWo7p",
        "outputId": "46b7c6f5-8f38-4591-ac13-e099878742b3"
      },
      "source": [
        "# to find the different types of tags\r\n",
        "total_tags   = len(set([word.lower() for sentence in Y for word in sentence]))\r\n",
        "print(total_tags)"
      ],
      "execution_count": 76,
      "outputs": [
        {
          "output_type": "stream",
          "text": [
            "45\n"
          ],
          "name": "stdout"
        }
      ]
    },
    {
      "cell_type": "code",
      "metadata": {
        "colab": {
          "base_uri": "https://localhost:8080/"
        },
        "id": "4wPEp5X3UBPg",
        "outputId": "b6c6dc82-cbe0-4e60-b226-09d9e1522b4f"
      },
      "source": [
        "# code to vectorize X and Y\r\n",
        "\r\n",
        "# encoding X\r\n",
        "word_tokenizer = Tokenizer()              # instantiate tokeniser\r\n",
        "word_tokenizer.fit_on_texts(X)            # fit tokeniser on data\r\n",
        "# use the tokeniser to encode input sequence\r\n",
        "X_encd = word_tokenizer.texts_to_sequences(X)  \r\n",
        "\r\n",
        "# encoding Y\r\n",
        "tag_tokenizer = Tokenizer()\r\n",
        "tag_tokenizer.fit_on_texts(Y)\r\n",
        "Y_encd = tag_tokenizer.texts_to_sequences(Y)\r\n",
        "\r\n",
        "# look at first encoded data point\r\n",
        "\r\n",
        "print('X: ', X_encd[0])\r\n",
        "print('Y: ', Y_encd[0])"
      ],
      "execution_count": 48,
      "outputs": [
        {
          "output_type": "stream",
          "text": [
            "X:  [1536, 7, 2, 1637, 15, 1106, 184, 5, 207, 246, 1146, 4973, 71, 481, 566, 9, 461, 1, 252, 9, 1750, 2555, 1, 4171, 5, 598, 6, 1309, 1537, 21, 736, 8, 549, 10, 6326, 8935]\n",
            "Y:  [1, 2, 4, 1, 16, 11, 15, 14, 12, 4, 6, 1, 2, 1, 5, 2, 3, 7, 6, 2, 1, 1, 7, 12, 14, 12, 4, 6, 1, 2, 3, 13, 3, 22, 6, 5]\n"
          ],
          "name": "stdout"
        }
      ]
    },
    {
      "cell_type": "code",
      "metadata": {
        "colab": {
          "base_uri": "https://localhost:8080/"
        },
        "id": "B92-tX1Up8lw",
        "outputId": "ccb5450b-fe01-4c38-bdf8-7a50c7c16e2b"
      },
      "source": [
        "# check length of longest sentence\r\n",
        "longest = [len(seq) for seq in X_encd]\r\n",
        "print(\"longest sentence: {}\".format(max(longest)))"
      ],
      "execution_count": 49,
      "outputs": [
        {
          "output_type": "stream",
          "text": [
            "longest sentence: 130\n"
          ],
          "name": "stdout"
        }
      ]
    },
    {
      "cell_type": "code",
      "metadata": {
        "colab": {
          "base_uri": "https://localhost:8080/"
        },
        "id": "V1xCtHTXYgyM",
        "outputId": "49fe08c8-a579-49ec-8377-46dc0076fb74"
      },
      "source": [
        "# Pad Sequences\r\n",
        "\r\n",
        "# we set a particular sentence length (max_length)\r\n",
        "# sentences longer than max_length - truncated from the back\r\n",
        "# sentences shorter than max_length - padded with zeros in front\r\n",
        "\r\n",
        "max_length = 100\r\n",
        "\r\n",
        "X_padded = pad_sequences(X_encd, maxlen= max_length, padding=\"pre\", truncating=\"post\")\r\n",
        "Y_padded = pad_sequences(Y_encd, maxlen= max_length, padding=\"pre\", truncating=\"post\")\r\n",
        "# print the first sequence\r\n",
        "print(X_padded[0])\r\n",
        "print(Y_padded[0])"
      ],
      "execution_count": 77,
      "outputs": [
        {
          "output_type": "stream",
          "text": [
            "[   0    0    0    0    0    0    0    0    0    0    0    0    0    0\n",
            "    0    0    0    0    0    0    0    0    0    0    0    0    0    0\n",
            "    0    0    0    0    0    0    0    0    0    0    0    0    0    0\n",
            "    0    0    0    0    0    0    0    0    0    0    0    0    0    0\n",
            "    0    0    0    0    0    0    0    0 1536    7    2 1637   15 1106\n",
            "  184    5  207  246 1146 4973   71  481  566    9  461    1  252    9\n",
            " 1750 2555    1 4171    5  598    6 1309 1537   21  736    8  549   10\n",
            " 6326 8935]\n",
            "[ 0  0  0  0  0  0  0  0  0  0  0  0  0  0  0  0  0  0  0  0  0  0  0  0\n",
            "  0  0  0  0  0  0  0  0  0  0  0  0  0  0  0  0  0  0  0  0  0  0  0  0\n",
            "  0  0  0  0  0  0  0  0  0  0  0  0  0  0  0  0  1  2  4  1 16 11 15 14\n",
            " 12  4  6  1  2  1  5  2  3  7  6  2  1  1  7 12 14 12  4  6  1  2  3 13\n",
            "  3 22  6  5]\n"
          ],
          "name": "stdout"
        }
      ]
    },
    {
      "cell_type": "code",
      "metadata": {
        "id": "M5CQY9nsuZir"
      },
      "source": [
        "# assign padded sequences to X and Y\r\n",
        "X, Y = X_padded, Y_padded"
      ],
      "execution_count": 78,
      "outputs": []
    },
    {
      "cell_type": "code",
      "metadata": {
        "colab": {
          "base_uri": "https://localhost:8080/"
        },
        "id": "AlEhPHQUxCX4",
        "outputId": "6be6dc0a-ce4b-4d4d-bc94-2316cd799985"
      },
      "source": [
        "# use Keras' to_categorical function to one-hot encode Y\r\n",
        "Y = to_categorical(Y)\r\n",
        "Y.shape"
      ],
      "execution_count": 79,
      "outputs": [
        {
          "output_type": "execute_result",
          "data": {
            "text/plain": [
              "(8725, 100, 46)"
            ]
          },
          "metadata": {
            "tags": []
          },
          "execution_count": 79
        }
      ]
    },
    {
      "cell_type": "code",
      "metadata": {
        "id": "cr0uxxtPeB7W"
      },
      "source": [
        "# split entire data into training and testing sets\r\n",
        "TEST_SIZE = 0.15\r\n",
        "X_train, X_test, Y_train, Y_test = train_test_split(X, Y, test_size=TEST_SIZE, random_state=4)"
      ],
      "execution_count": 80,
      "outputs": []
    },
    {
      "cell_type": "code",
      "metadata": {
        "colab": {
          "base_uri": "https://localhost:8080/"
        },
        "id": "1wNE0OHQsIVg",
        "outputId": "569e4055-367a-4e44-865b-02e68c19be25"
      },
      "source": [
        "X_train = np.array(X_train)\r\n",
        "Y_train = np.array(Y_train)\r\n",
        "X_test = np.array(X_test)\r\n",
        "Y_test = np.array(Y_test)\r\n",
        "X_train.shape"
      ],
      "execution_count": 81,
      "outputs": [
        {
          "output_type": "execute_result",
          "data": {
            "text/plain": [
              "(7416, 100)"
            ]
          },
          "metadata": {
            "tags": []
          },
          "execution_count": 81
        }
      ]
    },
    {
      "cell_type": "code",
      "metadata": {
        "colab": {
          "base_uri": "https://localhost:8080/"
        },
        "id": "HU4kKGg1t5AK",
        "outputId": "f28f6702-deb4-4441-81c9-ff012ec38363"
      },
      "source": [
        "Y_train.shape"
      ],
      "execution_count": 82,
      "outputs": [
        {
          "output_type": "execute_result",
          "data": {
            "text/plain": [
              "(7416, 100, 46)"
            ]
          },
          "metadata": {
            "tags": []
          },
          "execution_count": 82
        }
      ]
    },
    {
      "cell_type": "code",
      "metadata": {
        "colab": {
          "base_uri": "https://localhost:8080/"
        },
        "id": "vUCb4CC7Z6mE",
        "outputId": "9d62f2c1-43ca-4158-902d-b0e09dfd42aa"
      },
      "source": [
        "# total number of tags\r\n",
        "NUM_CLASSES = Y.shape[2]\r\n",
        "NUM_CLASSES"
      ],
      "execution_count": 84,
      "outputs": [
        {
          "output_type": "execute_result",
          "data": {
            "text/plain": [
              "46"
            ]
          },
          "metadata": {
            "tags": []
          },
          "execution_count": 84
        }
      ]
    },
    {
      "cell_type": "code",
      "metadata": {
        "id": "JUtWdcxWxILJ"
      },
      "source": [
        "\r\n",
        "rnn_model = Sequential()\r\n",
        "\r\n",
        "# embedding layer\r\n",
        "rnn_model.add(Embedding(input_dim     =  17259,         # vocab size\r\n",
        "                        output_dim    =  100,          # length of each sentence\r\n",
        "                        input_length  =  130,          # max_length\r\n",
        "                        trainable     =  False          \r\n",
        "))\r\n",
        "\r\n",
        "# adding RNN layer\r\n",
        "rnn_model.add(SimpleRNN(64, return_sequences=True ))\r\n",
        "\r\n",
        "# adding time distributed layer\r\n",
        "rnn_model.add(TimeDistributed(Dense(NUM_CLASSES, activation='softmax')))"
      ],
      "execution_count": 110,
      "outputs": []
    },
    {
      "cell_type": "code",
      "metadata": {
        "id": "ymrR-pSFzOBT"
      },
      "source": [
        "rnn_model.compile(loss = 'categorical_crossentropy', optimizer =  'adam', metrics   =  ['acc'])"
      ],
      "execution_count": 111,
      "outputs": []
    },
    {
      "cell_type": "code",
      "metadata": {
        "colab": {
          "base_uri": "https://localhost:8080/"
        },
        "id": "2KAN6mq_6cOT",
        "outputId": "00458787-6197-446d-b63a-2b583580f8e0"
      },
      "source": [
        "rnn_training = rnn_model.fit(X_train, Y_train, batch_size=128, epochs=10, validation_data=(X_test, Y_test))"
      ],
      "execution_count": 113,
      "outputs": [
        {
          "output_type": "stream",
          "text": [
            "Epoch 1/10\n",
            "WARNING:tensorflow:Model was constructed with shape (None, 130) for input KerasTensor(type_spec=TensorSpec(shape=(None, 130), dtype=tf.float32, name='embedding_10_input'), name='embedding_10_input', description=\"created by layer 'embedding_10_input'\"), but it was called on an input with incompatible shape (None, 100).\n",
            "WARNING:tensorflow:Model was constructed with shape (None, 130) for input KerasTensor(type_spec=TensorSpec(shape=(None, 130), dtype=tf.float32, name='embedding_10_input'), name='embedding_10_input', description=\"created by layer 'embedding_10_input'\"), but it was called on an input with incompatible shape (None, 100).\n",
            "58/58 [==============================] - ETA: 0s - loss: 2.2603 - acc: 0.6442WARNING:tensorflow:Model was constructed with shape (None, 130) for input KerasTensor(type_spec=TensorSpec(shape=(None, 130), dtype=tf.float32, name='embedding_10_input'), name='embedding_10_input', description=\"created by layer 'embedding_10_input'\"), but it was called on an input with incompatible shape (None, 100).\n",
            "58/58 [==============================] - 6s 92ms/step - loss: 2.2508 - acc: 0.6456 - val_loss: 1.2682 - val_acc: 0.7598\n",
            "Epoch 2/10\n",
            "58/58 [==============================] - 6s 100ms/step - loss: 1.1461 - acc: 0.7596 - val_loss: 0.9266 - val_acc: 0.7828\n",
            "Epoch 3/10\n",
            "58/58 [==============================] - 6s 96ms/step - loss: 0.9436 - acc: 0.7803 - val_loss: 0.7999 - val_acc: 0.7915\n",
            "Epoch 4/10\n",
            "58/58 [==============================] - 6s 105ms/step - loss: 0.7930 - acc: 0.7907 - val_loss: 0.7640 - val_acc: 0.7924\n",
            "Epoch 5/10\n",
            "58/58 [==============================] - 6s 108ms/step - loss: 0.7607 - acc: 0.7918 - val_loss: 0.7407 - val_acc: 0.7935\n",
            "Epoch 6/10\n",
            "58/58 [==============================] - 5s 94ms/step - loss: 0.7696 - acc: 0.7910 - val_loss: 0.7976 - val_acc: 0.7953\n",
            "Epoch 7/10\n",
            "58/58 [==============================] - 6s 95ms/step - loss: 0.7548 - acc: 0.7931 - val_loss: 0.7167 - val_acc: 0.7939\n",
            "Epoch 8/10\n",
            "58/58 [==============================] - 5s 90ms/step - loss: 0.7115 - acc: 0.7950 - val_loss: 0.6979 - val_acc: 0.7978\n",
            "Epoch 9/10\n",
            "58/58 [==============================] - 6s 98ms/step - loss: 0.6991 - acc: 0.7971 - val_loss: 0.6811 - val_acc: 0.8069\n",
            "Epoch 10/10\n",
            "58/58 [==============================] - 5s 90ms/step - loss: 0.6812 - acc: 0.8089 - val_loss: 0.6637 - val_acc: 0.8221\n"
          ],
          "name": "stdout"
        }
      ]
    },
    {
      "cell_type": "code",
      "metadata": {
        "colab": {
          "base_uri": "https://localhost:8080/"
        },
        "id": "Dz4almT8BNMH",
        "outputId": "df5efc50-49ab-4975-efd8-28180c0f369c"
      },
      "source": [
        "rnn_model.save('rnn_model.bin')"
      ],
      "execution_count": 119,
      "outputs": [
        {
          "output_type": "stream",
          "text": [
            "INFO:tensorflow:Assets written to: rnn_model.bin/assets\n"
          ],
          "name": "stdout"
        }
      ]
    },
    {
      "cell_type": "code",
      "metadata": {
        "id": "fPvAlUevCdza"
      },
      "source": [
        "rnn_model.save_weights(\"rnn_pos_tagging_model\")"
      ],
      "execution_count": 121,
      "outputs": []
    },
    {
      "cell_type": "code",
      "metadata": {
        "colab": {
          "base_uri": "https://localhost:8080/"
        },
        "id": "_jHLkF_t84Cs",
        "outputId": "6c76cef0-39f6-47fe-bb84-1619b0a227ed"
      },
      "source": [
        "rnn_training.history['acc']"
      ],
      "execution_count": 114,
      "outputs": [
        {
          "output_type": "execute_result",
          "data": {
            "text/plain": [
              "[0.7282699346542358,\n",
              " 0.769511878490448,\n",
              " 0.7838295698165894,\n",
              " 0.7894484996795654,\n",
              " 0.7910436987876892,\n",
              " 0.7888808250427246,\n",
              " 0.7923583984375,\n",
              " 0.7933886051177979,\n",
              " 0.7980839014053345,\n",
              " 0.8105245232582092]"
            ]
          },
          "metadata": {
            "tags": []
          },
          "execution_count": 114
        }
      ]
    },
    {
      "cell_type": "code",
      "metadata": {
        "colab": {
          "base_uri": "https://localhost:8080/"
        },
        "id": "fldb1pYj87zp",
        "outputId": "1ae4acf1-8287-475b-bc1b-5cb4db66c8fc"
      },
      "source": [
        "rnn_training.history['val_acc']"
      ],
      "execution_count": 116,
      "outputs": [
        {
          "output_type": "execute_result",
          "data": {
            "text/plain": [
              "[0.7598395943641663,\n",
              " 0.7828494906425476,\n",
              " 0.7914744019508362,\n",
              " 0.7923682332038879,\n",
              " 0.793483555316925,\n",
              " 0.7952712178230286,\n",
              " 0.7939342856407166,\n",
              " 0.7978151440620422,\n",
              " 0.8068678379058838,\n",
              " 0.8221390247344971]"
            ]
          },
          "metadata": {
            "tags": []
          },
          "execution_count": 116
        }
      ]
    },
    {
      "cell_type": "code",
      "metadata": {
        "colab": {
          "base_uri": "https://localhost:8080/",
          "height": 295
        },
        "id": "iS51H_5i8N-t",
        "outputId": "f26dfaaa-8a05-4e51-85ed-b046d434bccd"
      },
      "source": [
        "# visualise training history\r\n",
        "plt.plot(rnn_training.history['acc'])\r\n",
        "plt.plot(rnn_training.history['val_acc'])\r\n",
        "plt.title('model accuracy')\r\n",
        "plt.ylabel('accuracy')\r\n",
        "plt.xlabel('epoch')\r\n",
        "plt.legend(['train', 'test'], loc=\"lower right\")\r\n",
        "plt.show()"
      ],
      "execution_count": 117,
      "outputs": [
        {
          "output_type": "display_data",
          "data": {
            "image/png": "[encoded data removed]",
            "text/plain": [
              "<Figure size 432x288 with 1 Axes>"
            ]
          },
          "metadata": {
            "tags": [],
            "needs_background": "light"
          }
        }
      ]
    },
    {
      "cell_type": "code",
      "metadata": {
        "id": "ejaA66LG8Wml"
      },
      "source": [
        ""
      ],
      "execution_count": null,
      "outputs": []
    }
  ]
}